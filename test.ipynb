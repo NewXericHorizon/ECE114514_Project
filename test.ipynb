{
 "cells": [
  {
   "cell_type": "code",
   "execution_count": 1,
   "metadata": {},
   "outputs": [
    {
     "name": "stdout",
     "output_type": "stream",
     "text": [
      "Files already downloaded and verified\n",
      "Files already downloaded and verified\n"
     ]
    }
   ],
   "source": [
    "import torch\n",
    "import torchvision\n",
    "import torch.nn as nn\n",
    "from torch.autograd import Variable\n",
    "from torchvision import datasets, transforms\n",
    "from model.wideVAE import *\n",
    "from pgd_attack import *\n",
    "import torch.optim as optim\n",
    "import argparse\n",
    "import numpy as np\n",
    "from util import *\n",
    "import os\n",
    "os.environ[\"CUDA_VISIBLE_DEVICES\"] = \"1\"\n",
    "# import argparse\n",
    "\n",
    "# parser = argparse.ArgumentParser(description='PyTorch CIFAR10 VAE Training')\n",
    "# parser.add_argument('--batch-size', type=int, default=200, metavar='N',\n",
    "#                     help='input batch size for training (default: 128)')\n",
    "# parser.add_argument('--test-batch-size', type=int, default=200, metavar='N',\n",
    "#                     help='input batch size for testing (default: 128)')\n",
    "# parser.add_argument('--x-dim', type=int, default=784)\n",
    "# parser.add_argument('--hidden-dim', type=int, default=400)\n",
    "# parser.add_argument('--latent-dim', type=int, default=200)\n",
    "# parser.add_argument('--epochs', type=int, default=30)\n",
    "# args = parser.parse_args()\n",
    "torch.manual_seed(1)\n",
    "torch.cuda.manual_seed(1)\n",
    "torch.backends.cudnn.benchmark = False\n",
    "torch.backends.cudnn.deterministic = True\n",
    "use_cuda = torch.cuda.is_available()\n",
    "device = torch.device(\"cuda\" if use_cuda else \"cpu\")\n",
    "kwargs = {'num_workers': 1, 'pin_memory': True} if use_cuda else {}\n",
    "transform_train = transforms.Compose([\n",
    "    transforms.RandomCrop(32, padding=4),\n",
    "    transforms.RandomHorizontalFlip(),\n",
    "    transforms.ToTensor(),\n",
    "])\n",
    "transform_test = transforms.Compose([\n",
    "    transforms.ToTensor(),\n",
    "])\n",
    "batch_size = 200\n",
    "test_batch_size = 200\n",
    "beta = 0.5\n",
    "trainset = torchvision.datasets.CIFAR10(root='../data', train=True, download=True, transform=transform_train)\n",
    "train_loader = torch.utils.data.DataLoader(trainset, batch_size=batch_size, shuffle=True, **kwargs)\n",
    "testset = torchvision.datasets.CIFAR10(root='../data', train=False, download=True, transform=transform_test)\n",
    "test_loader = torch.utils.data.DataLoader(testset, batch_size=test_batch_size, shuffle=False, **kwargs)\n",
    "\n",
    "def train(vae_model, c_model, data_loader, vae_optimizer, c_optimizer, epoch_num):\n",
    "    vae_model.train()\n",
    "    c_model.train()\n",
    "    v_loss_sum = 0\n",
    "    c_loss_sum = 0\n",
    "    for batch_idx, (data, target) in enumerate(data_loader):\n",
    "        #data = data.view(batch_size, x_dim)\n",
    "        data, target = data.to(device), target.to(device)\n",
    "        vae_optimizer.zero_grad()\n",
    "        c_optimizer.zero_grad()\n",
    "        x_hat, mean, log_v, x_ = vae_model(data)\n",
    "        # x_cat = torch.cat((mean, log_v),1)\n",
    "        logit = c_model(x_.detach())\n",
    "        #logit = c_model(x_cat)\n",
    "        v_loss, c_loss = loss_function(data, target, x_hat, mean, log_v, logit, beta)\n",
    "        #print(loss)\n",
    "        v_loss_sum += v_loss\n",
    "        c_loss_sum += c_loss\n",
    "        # if epoch_num % 2 == 1:\n",
    "        if epoch_num <= 30:\n",
    "            v_loss.backward()\n",
    "            vae_optimizer.step()\n",
    "            c_loss.backward()\n",
    "        else:\n",
    "            c_loss.backward()\n",
    "            c_optimizer.step()\n",
    "            v_loss.backward()\n",
    "        \n",
    "    return v_loss_sum, c_loss_sum\n",
    "\n",
    "def test(vae_model, c_model):\n",
    "    err_num = 0\n",
    "    err_adv = 0\n",
    "    c_model.eval()\n",
    "    vae_model.eval()\n",
    "    for data, target in test_loader:\n",
    "        data, target = data.to(device), target.to(device)\n",
    "        logit = model_pred(data, vae_model, c_model)\n",
    "        err_num += (logit.data.max(1)[1] != target.data).float().sum()\n",
    "        # x_adv = pgd(vae_model, c_model, data, target, 40, 0.3, 0.01)\n",
    "        # m_adv, log_adv = testtime_update(vae_model, x_adv,learning_rate=args.testtime_lr, num=args.testtime_epochs)\n",
    "        # x_cat_adv = torch.cat((m_adv, log_adv), 1)\n",
    "        # logit_adv = c_model(x_cat_adv)\n",
    "        # err_adv += (logit_adv.data.max(1)[1] != target.data).float().sum()\n",
    "    print(len(test_loader.dataset))\n",
    "    print(err_num)\n",
    "    # print(err_adv)\n",
    "\n"
   ]
  },
  {
   "cell_type": "code",
   "execution_count": 2,
   "metadata": {},
   "outputs": [],
   "source": [
    "def adjust_learning_rate(optimizer, epoch, lr):\n",
    "    \"\"\"decrease the learning rate\"\"\"\n",
    "    lr_ = lr\n",
    "    if epoch >= 80:\n",
    "        lr_ = lr * 0.1\n",
    "    if epoch >= 90:\n",
    "        lr_ = lr * 0.01\n",
    "    if epoch >= 100:\n",
    "        lr_ = lr * 0.001\n",
    "    for param_group in optimizer.param_groups:\n",
    "        param_group['lr'] = lr_\n",
    "    "
   ]
  },
  {
   "cell_type": "code",
   "execution_count": 3,
   "metadata": {},
   "outputs": [
    {
     "name": "stdout",
     "output_type": "stream",
     "text": [
      "50000\n"
     ]
    },
    {
     "name": "stderr",
     "output_type": "stream",
     "text": [
      "/home/hao/anaconda3/envs/test/lib/python3.7/site-packages/torch/nn/_reduction.py:42: UserWarning: size_average and reduce args will be deprecated, please use reduction='sum' instead.\n",
      "  warnings.warn(warning.format(ret))\n"
     ]
    },
    {
     "name": "stdout",
     "output_type": "stream",
     "text": [
      "Epoch 1: VAE Average loss: 1774.523438\n",
      "Epoch 1: Classifier Average loss: 2.338953\n",
      "Epoch 2: VAE Average loss: 1586.342896\n",
      "Epoch 2: Classifier Average loss: 2.339547\n",
      "Epoch 3: VAE Average loss: 1553.655151\n",
      "Epoch 3: Classifier Average loss: 2.339198\n",
      "Epoch 4: VAE Average loss: 1540.147217\n",
      "Epoch 4: Classifier Average loss: 2.339128\n",
      "Epoch 5: VAE Average loss: 1532.249512\n",
      "Epoch 5: Classifier Average loss: 2.340662\n",
      "Epoch 6: VAE Average loss: 1524.577881\n",
      "Epoch 6: Classifier Average loss: 2.340745\n",
      "Epoch 7: VAE Average loss: 1520.175781\n",
      "Epoch 7: Classifier Average loss: 2.341443\n",
      "Epoch 8: VAE Average loss: 1517.259644\n",
      "Epoch 8: Classifier Average loss: 2.341225\n",
      "Epoch 9: VAE Average loss: 1513.973511\n",
      "Epoch 9: Classifier Average loss: 2.341274\n",
      "Epoch 10: VAE Average loss: 1511.032959\n",
      "Epoch 10: Classifier Average loss: 2.341641\n",
      "Epoch 11: VAE Average loss: 1508.461426\n",
      "Epoch 11: Classifier Average loss: 2.341399\n",
      "Epoch 12: VAE Average loss: 1506.034546\n",
      "Epoch 12: Classifier Average loss: 2.342533\n",
      "Epoch 13: VAE Average loss: 1503.768433\n",
      "Epoch 13: Classifier Average loss: 2.342708\n",
      "Epoch 14: VAE Average loss: 1501.922241\n",
      "Epoch 14: Classifier Average loss: 2.343624\n",
      "Epoch 15: VAE Average loss: 1500.453613\n",
      "Epoch 15: Classifier Average loss: 2.342769\n",
      "Epoch 16: VAE Average loss: 1497.624634\n",
      "Epoch 16: Classifier Average loss: 2.343844\n",
      "Epoch 17: VAE Average loss: 1495.811279\n",
      "Epoch 17: Classifier Average loss: 2.343923\n",
      "Epoch 18: VAE Average loss: 1495.454712\n",
      "Epoch 18: Classifier Average loss: 2.343882\n",
      "Epoch 19: VAE Average loss: 1493.951904\n",
      "Epoch 19: Classifier Average loss: 2.344286\n",
      "Epoch 20: VAE Average loss: 1492.935303\n",
      "Epoch 20: Classifier Average loss: 2.344441\n",
      "Epoch 21: VAE Average loss: 1492.048462\n",
      "Epoch 21: Classifier Average loss: 2.345031\n",
      "Epoch 22: VAE Average loss: 1491.109741\n",
      "Epoch 22: Classifier Average loss: 2.344762\n",
      "Epoch 23: VAE Average loss: 1489.914795\n",
      "Epoch 23: Classifier Average loss: 2.344786\n",
      "Epoch 24: VAE Average loss: 1489.124634\n",
      "Epoch 24: Classifier Average loss: 2.345089\n",
      "Epoch 25: VAE Average loss: 1489.342163\n",
      "Epoch 25: Classifier Average loss: 2.344183\n",
      "Epoch 26: VAE Average loss: 1491.294678\n",
      "Epoch 26: Classifier Average loss: 2.344425\n",
      "Epoch 27: VAE Average loss: 1487.713745\n",
      "Epoch 27: Classifier Average loss: 2.344140\n",
      "Epoch 28: VAE Average loss: 1487.691040\n",
      "Epoch 28: Classifier Average loss: 2.344859\n",
      "Epoch 29: VAE Average loss: 1485.543945\n",
      "Epoch 29: Classifier Average loss: 2.344729\n",
      "Epoch 30: VAE Average loss: 1584.657715\n",
      "Epoch 30: Classifier Average loss: 2.352679\n",
      "Epoch 31: VAE Average loss: 1529.590942\n",
      "Epoch 31: Classifier Average loss: 1.890292\n",
      "Epoch 32: VAE Average loss: 1528.784180\n",
      "Epoch 32: Classifier Average loss: 1.597732\n",
      "Epoch 33: VAE Average loss: 1528.185669\n",
      "Epoch 33: Classifier Average loss: 1.463167\n",
      "Epoch 34: VAE Average loss: 1529.007324\n",
      "Epoch 34: Classifier Average loss: 1.362423\n",
      "Epoch 35: VAE Average loss: 1529.541504\n",
      "Epoch 35: Classifier Average loss: 1.288768\n",
      "Epoch 36: VAE Average loss: 1528.889526\n",
      "Epoch 36: Classifier Average loss: 1.221801\n",
      "Epoch 37: VAE Average loss: 1528.456787\n",
      "Epoch 37: Classifier Average loss: 1.155072\n",
      "Epoch 38: VAE Average loss: 1528.685181\n",
      "Epoch 38: Classifier Average loss: 1.098741\n",
      "Epoch 39: VAE Average loss: 1528.840820\n",
      "Epoch 39: Classifier Average loss: 1.051429\n",
      "Epoch 40: VAE Average loss: 1528.260498\n",
      "Epoch 40: Classifier Average loss: 1.005376\n",
      "Epoch 41: VAE Average loss: 1528.820068\n",
      "Epoch 41: Classifier Average loss: 0.967888\n",
      "Epoch 42: VAE Average loss: 1528.637573\n",
      "Epoch 42: Classifier Average loss: 0.932272\n",
      "Epoch 43: VAE Average loss: 1528.422241\n",
      "Epoch 43: Classifier Average loss: 0.896529\n",
      "Epoch 44: VAE Average loss: 1528.664062\n",
      "Epoch 44: Classifier Average loss: 0.867368\n",
      "Epoch 45: VAE Average loss: 1528.740112\n",
      "Epoch 45: Classifier Average loss: 0.842718\n",
      "Epoch 46: VAE Average loss: 1528.354736\n",
      "Epoch 46: Classifier Average loss: 0.809112\n",
      "Epoch 47: VAE Average loss: 1528.793579\n",
      "Epoch 47: Classifier Average loss: 0.788547\n",
      "Epoch 48: VAE Average loss: 1529.460327\n",
      "Epoch 48: Classifier Average loss: 0.757993\n",
      "Epoch 49: VAE Average loss: 1528.696411\n",
      "Epoch 49: Classifier Average loss: 0.743832\n",
      "Epoch 50: VAE Average loss: 1528.304321\n",
      "Epoch 50: Classifier Average loss: 0.720389\n",
      "Epoch 51: VAE Average loss: 1529.291626\n",
      "Epoch 51: Classifier Average loss: 0.692193\n",
      "Epoch 52: VAE Average loss: 1529.517578\n",
      "Epoch 52: Classifier Average loss: 0.669130\n",
      "Epoch 53: VAE Average loss: 1528.918335\n",
      "Epoch 53: Classifier Average loss: 0.652636\n",
      "Epoch 54: VAE Average loss: 1527.969727\n",
      "Epoch 54: Classifier Average loss: 0.632501\n",
      "Epoch 55: VAE Average loss: 1528.581421\n",
      "Epoch 55: Classifier Average loss: 0.613859\n",
      "Epoch 56: VAE Average loss: 1528.311646\n",
      "Epoch 56: Classifier Average loss: 0.598839\n",
      "Epoch 57: VAE Average loss: 1528.929932\n",
      "Epoch 57: Classifier Average loss: 0.569353\n",
      "Epoch 58: VAE Average loss: 1527.238892\n",
      "Epoch 58: Classifier Average loss: 0.556277\n",
      "Epoch 59: VAE Average loss: 1527.758545\n",
      "Epoch 59: Classifier Average loss: 0.540371\n",
      "Epoch 60: VAE Average loss: 1529.499634\n",
      "Epoch 60: Classifier Average loss: 0.514954\n",
      "Epoch 61: VAE Average loss: 1529.112427\n",
      "Epoch 61: Classifier Average loss: 0.500638\n",
      "Epoch 62: VAE Average loss: 1528.279175\n",
      "Epoch 62: Classifier Average loss: 0.487736\n",
      "Epoch 63: VAE Average loss: 1528.699585\n",
      "Epoch 63: Classifier Average loss: 0.468974\n",
      "Epoch 64: VAE Average loss: 1528.583496\n",
      "Epoch 64: Classifier Average loss: 0.449505\n",
      "Epoch 65: VAE Average loss: 1528.742310\n",
      "Epoch 65: Classifier Average loss: 0.435427\n",
      "Epoch 66: VAE Average loss: 1528.755127\n",
      "Epoch 66: Classifier Average loss: 0.420168\n",
      "Epoch 67: VAE Average loss: 1528.314819\n",
      "Epoch 67: Classifier Average loss: 0.406112\n",
      "Epoch 68: VAE Average loss: 1528.408936\n",
      "Epoch 68: Classifier Average loss: 0.391104\n",
      "Epoch 69: VAE Average loss: 1529.179688\n",
      "Epoch 69: Classifier Average loss: 0.370553\n",
      "Epoch 70: VAE Average loss: 1528.695679\n",
      "Epoch 70: Classifier Average loss: 0.368521\n",
      "Epoch 71: VAE Average loss: 1529.290894\n",
      "Epoch 71: Classifier Average loss: 0.346306\n",
      "Epoch 72: VAE Average loss: 1528.411987\n",
      "Epoch 72: Classifier Average loss: 0.334652\n",
      "Epoch 73: VAE Average loss: 1529.382812\n",
      "Epoch 73: Classifier Average loss: 0.327676\n",
      "Epoch 74: VAE Average loss: 1528.240479\n",
      "Epoch 74: Classifier Average loss: 0.312583\n",
      "Epoch 75: VAE Average loss: 1528.592285\n",
      "Epoch 75: Classifier Average loss: 0.303972\n",
      "Epoch 76: VAE Average loss: 1529.036865\n",
      "Epoch 76: Classifier Average loss: 0.285884\n",
      "Epoch 77: VAE Average loss: 1528.877563\n",
      "Epoch 77: Classifier Average loss: 0.278659\n",
      "Epoch 78: VAE Average loss: 1528.951538\n",
      "Epoch 78: Classifier Average loss: 0.265118\n",
      "Epoch 79: VAE Average loss: 1528.858398\n",
      "Epoch 79: Classifier Average loss: 0.263950\n",
      "Epoch 80: VAE Average loss: 1529.459106\n",
      "Epoch 80: Classifier Average loss: 0.174690\n",
      "Epoch 81: VAE Average loss: 1528.686035\n",
      "Epoch 81: Classifier Average loss: 0.138383\n",
      "Epoch 82: VAE Average loss: 1528.751953\n",
      "Epoch 82: Classifier Average loss: 0.128226\n",
      "Epoch 83: VAE Average loss: 1529.143311\n",
      "Epoch 83: Classifier Average loss: 0.115149\n",
      "Epoch 84: VAE Average loss: 1528.831055\n",
      "Epoch 84: Classifier Average loss: 0.110577\n",
      "Epoch 85: VAE Average loss: 1528.823975\n",
      "Epoch 85: Classifier Average loss: 0.104374\n",
      "Epoch 86: VAE Average loss: 1528.314819\n",
      "Epoch 86: Classifier Average loss: 0.097730\n",
      "Epoch 87: VAE Average loss: 1529.144165\n",
      "Epoch 87: Classifier Average loss: 0.096207\n",
      "Epoch 88: VAE Average loss: 1529.906006\n",
      "Epoch 88: Classifier Average loss: 0.091683\n",
      "Epoch 89: VAE Average loss: 1528.973755\n",
      "Epoch 89: Classifier Average loss: 0.088998\n",
      "Epoch 90: VAE Average loss: 1528.850708\n",
      "Epoch 90: Classifier Average loss: 0.082910\n",
      "10000\n",
      "tensor(2493., device='cuda:0')\n"
     ]
    }
   ],
   "source": [
    "\n",
    "lr = 0.001\n",
    "epochs = 90\n",
    "vae_model = wide_VAE(zDim=256).to(device)\n",
    "vae_optimizer = optim.Adam(vae_model.parameters(), lr=lr)\n",
    "c_model = classifier().to(device)\n",
    "c_optimizer = optim.Adam(c_model.parameters(), lr=lr*10)\n",
    "print(len(train_loader.dataset))\n",
    "for epoch in range(1, epochs+1):\n",
    "    adjust_learning_rate(c_optimizer, epoch, lr*10)\n",
    "    v_loss, c_loss = train(vae_model,c_model, train_loader, vae_optimizer, c_optimizer, epoch)\n",
    "    print('Epoch {}: VAE Average loss: {:.6f}'.format(epoch, v_loss/len(train_loader.dataset)))\n",
    "    print('Epoch {}: Classifier Average loss: {:.6f}'.format(epoch, c_loss/len(train_loader.dataset)))\n",
    "test(vae_model, c_model)"
   ]
  },
  {
   "cell_type": "code",
   "execution_count": 4,
   "metadata": {},
   "outputs": [],
   "source": [
    "import matplotlib.pyplot as plt\n",
    "def show_image(x, idx):\n",
    "    x = x.view(test_batch_size,3, 32, 32)\n",
    "    # x = x.detach().cpu().numpy()\n",
    "    # x = x.transpose(0,2,3,1).astype(\"uint8\")\n",
    "    fig = plt.figure()\n",
    "    plt.imshow(transforms.ToPILImage()(x[idx]))"
   ]
  },
  {
   "cell_type": "code",
   "execution_count": 4,
   "metadata": {},
   "outputs": [],
   "source": [
    "def testtime_update(vae_model, x_adv, learning_rate=0.1, num = 20):\n",
    "    x_hat_adv, mean, log_v= vae_model(x_adv)\n",
    "    x_adv = x_adv.detach()\n",
    "    for _ in range(num):\n",
    "        loss = vae_loss(x_adv, x_hat_adv, mean, log_v)\n",
    "        mean.retain_grad()\n",
    "        log_v.retain_grad()\n",
    "        loss.backward(retain_graph=True)\n",
    "        with torch.no_grad():\n",
    "            mean.data -= learning_rate * mean.grad.data\n",
    "            log_v.data -= learning_rate * log_v.grad.data\n",
    "        mean.grad.data.zero_()\n",
    "        log_v.grad.data.zero_()\n",
    "        x_hat_adv = vae_model.decoder(vae_model.reparameterize(mean, log_v))\n",
    "    return mean, log_v"
   ]
  },
  {
   "cell_type": "code",
   "execution_count": 6,
   "metadata": {},
   "outputs": [],
   "source": [
    "import os\n",
    "os.environ['CUDA_LAUNCH_BLOCKING'] = \"1\"\n",
    "from torch.autograd import Variable\n",
    "def pgd(vae_model, c_model, X, label, num_steps, epsilon, step_size):\n",
    "    X_pgd = Variable(X.data, requires_grad=True)\n",
    "    for _ in range(num_steps):\n",
    "        opt = optim.SGD([X_pgd], lr=1e-3)\n",
    "        opt.zero_grad()\n",
    "        with torch.enable_grad():\n",
    "            _, mean, log_v = vae_model(X_pgd)\n",
    "            x_cat = torch.cat((mean, log_v), 1)\n",
    "            logit = c_model(x_cat)\n",
    "            loss = nn.CrossEntropyLoss()(logit, label)\n",
    "        loss.backward()\n",
    "        eta = step_size * X_pgd.grad.data.sign()\n",
    "        X_pgd = Variable(X_pgd.data + eta, requires_grad=True)\n",
    "        eta = torch.clamp(X_pgd.data - X.data, -epsilon, epsilon)\n",
    "        X_pgd = Variable(X.data + eta, requires_grad=True)\n",
    "        X_pgd = Variable(torch.clamp(X_pgd, 0, 1.0), requires_grad=True)\n",
    "    return X_pgd"
   ]
  },
  {
   "cell_type": "code",
   "execution_count": 5,
   "metadata": {},
   "outputs": [],
   "source": [
    "for data, target in test_loader:\n",
    "    x, y = data.to(device), target.to(device)\n",
    "    # x_adv = pgd(vae_model, c_model, x, y, 40, 0.3, 0.01)\n",
    "    break\n",
    "x_hat, _,_,_ = vae_model(x)\n",
    "# x_hat_adv, mean, log_v = vae_model(x_adv)\n",
    "# x_cat = torch.cat((mean, log_v), 1)\n",
    "# logit = c_model(x_cat)\n",
    "# print(logit.max(1)[1])"
   ]
  },
  {
   "cell_type": "code",
   "execution_count": 6,
   "metadata": {},
   "outputs": [
    {
     "data": {
      "image/png": "[encoded data removed]",
      "text/plain": [
       "<Figure size 432x288 with 1 Axes>"
      ]
     },
     "metadata": {
      "needs_background": "light"
     },
     "output_type": "display_data"
    }
   ],
   "source": [
    "idex = 20\n",
    "show_image(x, idx=idex)"
   ]
  },
  {
   "cell_type": "code",
   "execution_count": 7,
   "metadata": {},
   "outputs": [
    {
     "data": {
      "image/png": "[encoded data removed]",
      "text/plain": [
       "<Figure size 432x288 with 1 Axes>"
      ]
     },
     "metadata": {
      "needs_background": "light"
     },
     "output_type": "display_data"
    }
   ],
   "source": [
    "show_image(x_hat, idx=idex)"
   ]
  },
  {
   "cell_type": "code",
   "execution_count": 15,
   "metadata": {},
   "outputs": [
    {
     "data": {
      "image/png": "[encoded data removed]",
      "text/plain": [
       "<Figure size 432x288 with 1 Axes>"
      ]
     },
     "metadata": {
      "needs_background": "light"
     },
     "output_type": "display_data"
    }
   ],
   "source": [
    "show_image(x_adv, idx=idex)"
   ]
  },
  {
   "cell_type": "code",
   "execution_count": 16,
   "metadata": {},
   "outputs": [
    {
     "data": {
      "image/png": "[encoded data removed]",
      "text/plain": [
       "<Figure size 432x288 with 1 Axes>"
      ]
     },
     "metadata": {
      "needs_background": "light"
     },
     "output_type": "display_data"
    }
   ],
   "source": [
    "show_image(x_hat_adv, idx=idex)"
   ]
  },
  {
   "cell_type": "code",
   "execution_count": null,
   "metadata": {},
   "outputs": [],
   "source": []
  }
 ],
 "metadata": {
  "interpreter": {
   "hash": "60f3562df18e56d69cac921e4ec80aacc06b2c12e8dcb1e1fa8771458e773d18"
  },
  "kernelspec": {
   "display_name": "Python 3.6.13 ('trades')",
   "language": "python",
   "name": "python3"
  },
  "language_info": {
   "codemirror_mode": {
    "name": "ipython",
    "version": 3
   },
   "file_extension": ".py",
   "mimetype": "text/x-python",
   "name": "python",
   "nbconvert_exporter": "python",
   "pygments_lexer": "ipython3",
   "version": "3.7.11"
  },
  "orig_nbformat": 4
 },
 "nbformat": 4,
 "nbformat_minor": 2
}
