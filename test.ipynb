{
 "cells": [
  {
   "cell_type": "code",
   "execution_count": 1,
   "metadata": {},
   "outputs": [
    {
     "name": "stdout",
     "output_type": "stream",
     "text": [
      "Files already downloaded and verified\n",
      "Files already downloaded and verified\n"
     ]
    }
   ],
   "source": [
    "import torch\n",
    "import torchvision\n",
    "import torch.nn as nn\n",
    "from torch.autograd import Variable\n",
    "from torchvision import datasets, transforms\n",
    "from model.wideVAE import *\n",
    "from blackbox_pgd_model.wideresnet_update import *\n",
    "from pgd_attack import *\n",
    "import torch.optim as optim\n",
    "import numpy as np\n",
    "from util import *\n",
    "import os\n",
    "os.environ['CUDA_LAUNCH_BLOCKING'] = \"1\"\n",
    "\n",
    "# parser = argparse.ArgumentParser(description='PyTorch CIFAR10 VAE Training')\n",
    "# parser.add_argument('--batch-size', type=int, default=200, metavar='N',\n",
    "#                     help='input batch size for training (default: 128)')\n",
    "# parser.add_argument('--test-batch-size', type=int, default=200, metavar='N',\n",
    "#                     help='input batch size for testing (default: 128)')\n",
    "# parser.add_argument('--x-dim', type=int, default=784)\n",
    "# parser.add_argument('--hidden-dim', type=int, default=400)\n",
    "# parser.add_argument('--latent-dim', type=int, default=200)\n",
    "# parser.add_argument('--epochs', type=int, default=30)\n",
    "# args = parser.parse_args()\n",
    "torch.manual_seed(1)\n",
    "torch.cuda.manual_seed(1)\n",
    "torch.backends.cudnn.benchmark = False\n",
    "torch.backends.cudnn.deterministic = True\n",
    "use_cuda = torch.cuda.is_available()\n",
    "device = torch.device(\"cuda\" if use_cuda else \"cpu\")\n",
    "kwargs = {'num_workers': 1, 'pin_memory': True} if use_cuda else {}\n",
    "transform_train = transforms.Compose([\n",
    "    transforms.RandomCrop(32, padding=4),\n",
    "    transforms.RandomHorizontalFlip(),\n",
    "    transforms.ToTensor(),\n",
    "])\n",
    "transform_test = transforms.Compose([\n",
    "    transforms.ToTensor(),\n",
    "])\n",
    "batch_size = 200\n",
    "test_batch_size = 200\n",
    "beta = 0.5\n",
    "trainset = torchvision.datasets.CIFAR10(root='../data', train=True, download=True, transform=transform_train)\n",
    "train_loader = torch.utils.data.DataLoader(trainset, batch_size=batch_size, shuffle=True, **kwargs)\n",
    "testset = torchvision.datasets.CIFAR10(root='../data', train=False, download=True, transform=transform_test)\n",
    "test_loader = torch.utils.data.DataLoader(testset, batch_size=test_batch_size, shuffle=False, **kwargs)\n",
    "\n",
    "def train(vae_model, c_model, data_loader, vae_optimizer, c_optimizer, epoch_num):\n",
    "    vae_model.train()\n",
    "    c_model.train()\n",
    "    v_loss_sum = 0\n",
    "    c_loss_sum = 0\n",
    "    for batch_idx, (data, target) in enumerate(data_loader):\n",
    "        #data = data.view(batch_size, x_dim)\n",
    "        data, target = data.to(device), target.to(device)\n",
    "        vae_optimizer.zero_grad()\n",
    "        c_optimizer.zero_grad()\n",
    "        x_hat, mean, log_v, x_ = vae_model(data)\n",
    "        # x_cat = torch.cat((mean, log_v),1)\n",
    "        logit = c_model(x_.detach().view(-1,160,8,8))\n",
    "        #logit = c_model(x_cat)\n",
    "        v_loss, c_loss = loss_function_mean(data, target, x_hat, mean, log_v, logit)\n",
    "        #print(loss)\n",
    "        v_loss_sum += v_loss\n",
    "        c_loss_sum += c_loss\n",
    "        # if epoch_num % 2 == 1:\n",
    "        if epoch_num <= 30:\n",
    "            v_loss.backward()\n",
    "            vae_optimizer.step()\n",
    "            c_loss.backward()\n",
    "        else:\n",
    "            c_loss.backward()\n",
    "            c_optimizer.step()\n",
    "            v_loss.backward()\n",
    "    return v_loss_sum, c_loss_sum\n",
    "\n",
    "def eval_train(vae_model, c_model):\n",
    "    vae_model.eval()\n",
    "    c_model.eval()\n",
    "    err_num = 0\n",
    "    with torch.no_grad():\n",
    "        for data, target in train_loader:\n",
    "            data, target = data.to(device), target.to(device)\n",
    "            x_hat, mean, log_v, x_ = vae_model(data)\n",
    "            logit = c_model(x_.detach().view(-1,160,8,8))\n",
    "            err_num += (logit.data.max(1)[1] != target.data).float().sum()\n",
    "    print('train error num:{}'.format(err_num))\n",
    "def eval_test(vae_model, c_model):\n",
    "    vae_model.eval()\n",
    "    c_model.eval()\n",
    "    err_num = 0\n",
    "    with torch.no_grad():\n",
    "        for data, target in test_loader:\n",
    "            data, target = data.to(device), target.to(device)\n",
    "            x_hat, mean, log_v, x_ = vae_model(data)\n",
    "            logit = c_model(x_.detach().view(-1,160,8,8))\n",
    "            err_num += (logit.data.max(1)[1] != target.data).float().sum()\n",
    "    print('test error num:{}'.format(err_num))\n"
   ]
  },
  {
   "cell_type": "code",
   "execution_count": 2,
   "metadata": {},
   "outputs": [],
   "source": [
    "def testtime_update(vae_model, c_model, x_adv, target, learning_rate=0.1, num = 30, mode = 'mean'):\n",
    "    x_adv = x_adv.detach()\n",
    "    x_hat_adv, mean, log_v, x_ = vae_model(x_adv)\n",
    "    for _ in range(num):\n",
    "        if (x_hat_adv != x_hat_adv).sum() > 0:\n",
    "            print('nan Error')\n",
    "            exit()\n",
    "        if mode == 'mean':\n",
    "            loss = nn.functional.binary_cross_entropy(x_hat_adv, x_adv, size_average=False, reduction='mean')\n",
    "            # loss = vae_loss_mean(x_adv, x_hat_adv, mean, log_v)\n",
    "        else:\n",
    "            loss = nn.functional.binary_cross_entropy(x_hat_adv, x_adv, reduction='sum')\n",
    "            # loss = vae_loss_sum(x_adv, x_hat_adv, mean, log_v)\n",
    "        x_.retain_grad()\n",
    "        loss.backward(retain_graph=True)\n",
    "        with torch.no_grad():\n",
    "            x_.data -= learning_rate * x_.grad.data\n",
    "        x_.grad.data.zero_()\n",
    "    x_hat_adv_new = vae_model.re_forward(x_)\n",
    "    logit_adv = c_model(x_.view(-1,160,8,8))\n",
    "        # print((logit_adv.data.max(1)[1] != target.data).float().sum())\n",
    "    return logit_adv, x_hat_adv, x_hat_adv_new"
   ]
  },
  {
   "cell_type": "code",
   "execution_count": 69,
   "metadata": {},
   "outputs": [],
   "source": [
    "def test(vae_model, c_model, source_model):\n",
    "    err_num = 0\n",
    "    err_adv = 0\n",
    "    c_model.eval()\n",
    "    vae_model.eval()\n",
    "    for data, target in test_loader:\n",
    "        data, target = data.to(device), target.to(device)\n",
    "        data = Variable(data.data, requires_grad=True)\n",
    "        x_hat,_,_,x_ = vae_model(data)\n",
    "        logit = c_model(x_.view(-1,160,8,8))\n",
    "        err_num += (logit.data.max(1)[1] != target.data).float().sum()\n",
    "        x_adv = pgd_cifar_blackbox(vae_model, c_model, source_model, data, target, 20, 0.03, 0.003)\n",
    "        # x_adv = pgd_cifar(vae_model, c_model, data, target, 20, 0.03, 0.003)\n",
    "        logit_adv, x_hat_adv, x_hat_adv_new = testtime_update(vae_model, c_model,  x_adv, target,learning_rate=0.01, num=200)\n",
    "        return data, x_hat, x_adv, x_hat_adv, x_hat_adv_new, target\n",
    "        # logit_adv = diff_update_cifar(vae_model,c_model, x_adv, target,learning_rate=0.05, num=500)\n",
    "        # _,_,_,x_adv_ = vae_model(x_adv)\n",
    "        # logit_adv = c_model(x_adv_.view(-1,160,8,8))\n",
    "        # logit = c_model(x_.view(-1,160,8,8))\n",
    "        adv_num = (logit_adv.data.max(1)[1] != target.data).float().sum()\n",
    "        # exit()\n",
    "        print(adv_num)\n",
    "        err_adv += adv_num\n",
    "        # x_cat_adv = torch.cat((m_adv, log_adv), 1)\n",
    "        # logit_adv = c_model(x_cat_adv)\n",
    "        # err_adv += (logit_adv.data.max(1)[1] != target.data).float().sum()\n",
    "    print(len(test_loader.dataset))\n",
    "    print(err_num)\n",
    "    print(err_adv)"
   ]
  },
  {
   "cell_type": "code",
   "execution_count": 31,
   "metadata": {},
   "outputs": [],
   "source": [
    "def model_pred(vae_model, c_model,x):\n",
    "    _,_,_,x_ = vae_model(x)\n",
    "    logit = c_model(x_.view(-1,160,8,8))\n",
    "    return logit.data.max(1)[1]"
   ]
  },
  {
   "cell_type": "code",
   "execution_count": 32,
   "metadata": {},
   "outputs": [],
   "source": [
    "def adjust_learning_rate(optimizer, epoch, lr):\n",
    "    \"\"\"decrease the learning rate\"\"\"\n",
    "    lr_ = lr\n",
    "    if epoch >= 80:\n",
    "        lr_ = lr * 0.1\n",
    "    if epoch >= 90:\n",
    "        lr_ = lr * 0.01\n",
    "    if epoch >= 100:\n",
    "        lr_ = lr * 0.001\n",
    "    for param_group in optimizer.param_groups:\n",
    "        param_group['lr'] = lr_\n",
    "    "
   ]
  },
  {
   "cell_type": "code",
   "execution_count": 35,
   "metadata": {},
   "outputs": [
    {
     "data": {
      "text/plain": [
       "<All keys matched successfully>"
      ]
     },
     "execution_count": 35,
     "metadata": {},
     "output_type": "execute_result"
    }
   ],
   "source": [
    "source_model = WideResNet().to(device)\n",
    "source_model_path = './blackbox_pgd_model/model-wideres-epoch76.pt'\n",
    "vae_model = wide_VAE(zDim=256).to(device)\n",
    "c_model = classifier().to(device)\n",
    "vae_model_path = './model-checkpoint/cifar-vae-model-89.pt'\n",
    "c_model_path = './model-checkpoint/cifar-c-model-89.pt'\n",
    "source_model.load_state_dict(torch.load(source_model_path))\n",
    "vae_model.load_state_dict(torch.load(vae_model_path))\n",
    "c_model.load_state_dict(torch.load(c_model_path))"
   ]
  },
  {
   "cell_type": "code",
   "execution_count": null,
   "metadata": {},
   "outputs": [],
   "source": [
    "\n",
    "# lr = 0.001\n",
    "# epochs = 90\n",
    "# vae_model = wide_VAE(zDim=256).to(device)\n",
    "# vae_optimizer = optim.Adam(vae_model.parameters(), lr=lr)\n",
    "# c_model = classifier().to(device)\n",
    "# c_optimizer = optim.Adam(c_model.parameters(), lr=lr*10)\n",
    "# print(len(train_loader.dataset))\n",
    "# for epoch in range(1, epochs+1):\n",
    "#     adjust_learning_rate(c_optimizer, epoch, lr*10)\n",
    "#     v_loss, c_loss = train(vae_model,c_model, train_loader, vae_optimizer, c_optimizer, epoch)\n",
    "#     print('Epoch {}: VAE Average loss: {:.6f}'.format(epoch, v_loss/len(train_loader.dataset)))\n",
    "#     print('Epoch {}: Classifier Average loss: {:.6f}'.format(epoch, c_loss/len(train_loader.dataset)))\n",
    "# test(vae_model, c_model)"
   ]
  },
  {
   "cell_type": "code",
   "execution_count": 36,
   "metadata": {},
   "outputs": [],
   "source": [
    "import matplotlib.pyplot as plt\n",
    "def show_image(x, idx):\n",
    "    x = x.view(test_batch_size,3, 32, 32)\n",
    "    # x = x.detach().cpu().numpy()\n",
    "    # x = x.transpose(0,2,3,1).astype(\"uint8\")\n",
    "    fig = plt.figure()\n",
    "    plt.imshow(transforms.ToPILImage()(x[idx]))"
   ]
  },
  {
   "cell_type": "code",
   "execution_count": 70,
   "metadata": {},
   "outputs": [],
   "source": [
    "x, x_hat, x_adv, x_hat_adv, x_hat_new, target = test(vae_model, c_model, source_model)\n",
    "logit_nat = model_pred(vae_model,c_model,x)\n",
    "logit_adv = model_pred(vae_model,c_model,x_adv)\n",
    "logit_hat_adv = model_pred(vae_model,c_model,x_hat_adv)\n",
    "logit_hat_new = model_pred(vae_model,c_model,x_hat_new)"
   ]
  },
  {
   "cell_type": "code",
   "execution_count": 71,
   "metadata": {},
   "outputs": [
    {
     "data": {
      "text/plain": [
       "tensor(38, device='cuda:0')"
      ]
     },
     "execution_count": 71,
     "metadata": {},
     "output_type": "execute_result"
    }
   ],
   "source": [
    "(logit_nat != target).sum()"
   ]
  },
  {
   "cell_type": "code",
   "execution_count": 72,
   "metadata": {},
   "outputs": [
    {
     "data": {
      "text/plain": [
       "tensor(69, device='cuda:0')"
      ]
     },
     "execution_count": 72,
     "metadata": {},
     "output_type": "execute_result"
    }
   ],
   "source": [
    "(logit_adv!= target).sum()"
   ]
  },
  {
   "cell_type": "code",
   "execution_count": 73,
   "metadata": {},
   "outputs": [
    {
     "data": {
      "text/plain": [
       "tensor(78, device='cuda:0')"
      ]
     },
     "execution_count": 73,
     "metadata": {},
     "output_type": "execute_result"
    }
   ],
   "source": [
    "(logit_hat_adv!= target).sum()"
   ]
  },
  {
   "cell_type": "code",
   "execution_count": 74,
   "metadata": {},
   "outputs": [
    {
     "data": {
      "text/plain": [
       "tensor(74, device='cuda:0')"
      ]
     },
     "execution_count": 74,
     "metadata": {},
     "output_type": "execute_result"
    }
   ],
   "source": [
    "(logit_hat_new!= target).sum()"
   ]
  },
  {
   "cell_type": "code",
   "execution_count": 75,
   "metadata": {},
   "outputs": [
    {
     "data": {
      "image/png": "[encoded data removed]",
      "text/plain": [
       "<Figure size 432x288 with 1 Axes>"
      ]
     },
     "metadata": {
      "needs_background": "light"
     },
     "output_type": "display_data"
    }
   ],
   "source": [
    "idex = 3\n",
    "show_image(x, idx=idex)"
   ]
  },
  {
   "cell_type": "code",
   "execution_count": 76,
   "metadata": {},
   "outputs": [
    {
     "data": {
      "image/png": "[encoded data removed]",
      "text/plain": [
       "<Figure size 432x288 with 1 Axes>"
      ]
     },
     "metadata": {
      "needs_background": "light"
     },
     "output_type": "display_data"
    }
   ],
   "source": [
    "show_image(x_hat, idx=idex)"
   ]
  },
  {
   "cell_type": "code",
   "execution_count": 77,
   "metadata": {},
   "outputs": [
    {
     "data": {
      "image/png": "[encoded data removed]",
      "text/plain": [
       "<Figure size 432x288 with 1 Axes>"
      ]
     },
     "metadata": {
      "needs_background": "light"
     },
     "output_type": "display_data"
    }
   ],
   "source": [
    "show_image(x_adv, idx=idex)"
   ]
  },
  {
   "cell_type": "code",
   "execution_count": 78,
   "metadata": {},
   "outputs": [
    {
     "data": {
      "image/png": "[encoded data removed]",
      "text/plain": [
       "<Figure size 432x288 with 1 Axes>"
      ]
     },
     "metadata": {
      "needs_background": "light"
     },
     "output_type": "display_data"
    }
   ],
   "source": [
    "show_image(x_hat_adv, idx=idex)"
   ]
  },
  {
   "cell_type": "code",
   "execution_count": 79,
   "metadata": {},
   "outputs": [
    {
     "data": {
      "image/png": "[encoded data removed]",
      "text/plain": [
       "<Figure size 432x288 with 1 Axes>"
      ]
     },
     "metadata": {
      "needs_background": "light"
     },
     "output_type": "display_data"
    }
   ],
   "source": [
    "show_image(x_hat_new, idx=idex)"
   ]
  },
  {
   "cell_type": "code",
   "execution_count": 3,
   "metadata": {},
   "outputs": [
    {
     "name": "stdout",
     "output_type": "stream",
     "text": [
      "testing mode\n"
     ]
    }
   ],
   "source": [
    "vae_model = wide_VAE(zDim=256).to(device)\n",
    "vae_optimizer = optim.Adam(vae_model.parameters(), lr=0.001)\n",
    "c_model = classifier().to(device)\n",
    "c_optimizer = optim.Adam(c_model.parameters(), lr=0.01)\n",
    "print('testing mode')\n",
    "model_dir = './model-checkpoint'\n",
    "test_num = 90\n",
    "vae_model_path = '{}/cifar-vae-model-{}.pt'.format(model_dir, test_num)\n",
    "c_model_path = '{}/cifar-c-model-{}.pt'.format(model_dir, test_num)\n",
    "vae_model.load_state_dict(torch.load(vae_model_path))\n",
    "c_model.load_state_dict(torch.load(c_model_path))\n",
    "c_model.eval()\n",
    "vae_model.eval()\n",
    "for data, target in test_loader:\n",
    "    data, target = data.to(device), target.to(device)\n",
    "    data = Variable(data.data, requires_grad=True)\n",
    "    # logit = model_pred(data, vae_model, c_model)\n",
    "    # err_num += (logit.data.max(1)[1] != target.data).float().sum()\n",
    "    # x_adv = pgd(vae_model, c_model, data, target, 20, 0.03, 0.003)\n",
    "    # x_ = testtime_update(vae_model, x_adv ,learning_rate=0.15, num=100)\n",
    "    _,_,_,x_ = vae_model(data)\n",
    "    logit = c_model(x_.view(-1,160,8,8))\n",
    "    break"
   ]
  }
 ],
 "metadata": {
  "interpreter": {
   "hash": "60f3562df18e56d69cac921e4ec80aacc06b2c12e8dcb1e1fa8771458e773d18"
  },
  "kernelspec": {
   "display_name": "Python 3.6.13 ('trades')",
   "language": "python",
   "name": "python3"
  },
  "language_info": {
   "codemirror_mode": {
    "name": "ipython",
    "version": 3
   },
   "file_extension": ".py",
   "mimetype": "text/x-python",
   "name": "python",
   "nbconvert_exporter": "python",
   "pygments_lexer": "ipython3",
   "version": "3.7.11"
  },
  "orig_nbformat": 4
 },
 "nbformat": 4,
 "nbformat_minor": 2
}
