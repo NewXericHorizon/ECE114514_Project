{
 "cells": [
  {
   "cell_type": "code",
   "execution_count": 6,
   "metadata": {},
   "outputs": [
    {
     "name": "stdout",
     "output_type": "stream",
     "text": [
      "60000\n"
     ]
    },
    {
     "name": "stderr",
     "output_type": "stream",
     "text": [
      "C:\\Users\\lovettxh\\anaconda3\\envs\\trades\\lib\\site-packages\\torch\\nn\\functional.py:718: UserWarning: Named tensors and all their associated APIs are an experimental feature and subject to change. Please do not use them for anything important until they are released as stable. (Triggered internally at  ..\\c10/core/TensorImpl.h:1156.)\n",
      "  return torch.max_pool2d(input, kernel_size, stride, padding, dilation, ceil_mode)\n"
     ]
    },
    {
     "name": "stdout",
     "output_type": "stream",
     "text": [
      "Epoch 1: Average loss: 83.749184\n",
      "Epoch 2: Average loss: 61.601444\n",
      "Epoch 3: Average loss: 56.234550\n",
      "Epoch 4: Average loss: 54.256096\n",
      "Epoch 5: Average loss: 53.193581\n",
      "Epoch 6: Average loss: 52.518192\n",
      "Epoch 7: Average loss: 51.977318\n",
      "Epoch 8: Average loss: 51.622166\n",
      "Epoch 9: Average loss: 51.329758\n",
      "Epoch 10: Average loss: 51.111282\n",
      "Epoch 11: Average loss: 50.880417\n",
      "Epoch 12: Average loss: 50.715904\n",
      "Epoch 13: Average loss: 50.576344\n",
      "Epoch 14: Average loss: 50.393555\n",
      "Epoch 15: Average loss: 50.265739\n",
      "Epoch 16: Average loss: 50.132412\n",
      "Epoch 17: Average loss: 50.044930\n",
      "Epoch 18: Average loss: 49.937004\n",
      "Epoch 19: Average loss: 49.854034\n",
      "Epoch 20: Average loss: 49.752743\n",
      "Epoch 21: Average loss: 49.677803\n",
      "Epoch 22: Average loss: 49.596863\n",
      "Epoch 23: Average loss: 49.506741\n",
      "Epoch 24: Average loss: 49.454514\n",
      "Epoch 25: Average loss: 49.372513\n",
      "Epoch 26: Average loss: 49.315464\n",
      "Epoch 27: Average loss: 49.251003\n",
      "Epoch 28: Average loss: 49.195976\n",
      "Epoch 29: Average loss: 49.140484\n",
      "Epoch 30: Average loss: 49.078472\n"
     ]
    }
   ],
   "source": [
    "import torch\n",
    "import torchvision\n",
    "import torch.nn as nn\n",
    "from torchvision import transforms\n",
    "from model.VAE import *\n",
    "import torch.optim as optim\n",
    "# import argparse\n",
    "\n",
    "# parser = argparse.ArgumentParser(description='PyTorch CIFAR10 VAE Training')\n",
    "# parser.add_argument('--batch-size', type=int, default=200, metavar='N',\n",
    "#                     help='input batch size for training (default: 128)')\n",
    "# parser.add_argument('--test-batch-size', type=int, default=200, metavar='N',\n",
    "#                     help='input batch size for testing (default: 128)')\n",
    "# parser.add_argument('--x-dim', type=int, default=784)\n",
    "# parser.add_argument('--hidden-dim', type=int, default=400)\n",
    "# parser.add_argument('--latent-dim', type=int, default=200)\n",
    "# parser.add_argument('--epochs', type=int, default=30)\n",
    "# args = parser.parse_args()\n",
    "\n",
    "torch.manual_seed(1)\n",
    "lr = 1e-3\n",
    "use_cuda = torch.cuda.is_available()\n",
    "device = torch.device(\"cuda\" if use_cuda else \"cpu\")\n",
    "kwargs = {'num_workers': 1, 'pin_memory': True} if use_cuda else {}\n",
    "transform_train = transforms.Compose([\n",
    "    transforms.RandomCrop(32, padding=4),\n",
    "    transforms.RandomHorizontalFlip(),\n",
    "    transforms.ToTensor(),\n",
    "])\n",
    "transform_test = transforms.Compose([\n",
    "    transforms.ToTensor(),\n",
    "])\n",
    "batch_size = 100\n",
    "test_batch_size = 200\n",
    "x_dim = 784\n",
    "latent_dim = 200\n",
    "epochs = 30\n",
    "trainset = torchvision.datasets.MNIST(root='../data', train=True, download=True, transform=transform_test)\n",
    "train_loader = torch.utils.data.DataLoader(trainset, batch_size=batch_size, shuffle=True, **kwargs)\n",
    "testset = torchvision.datasets.MNIST(root='../data', train=False, download=True, transform=transform_test)\n",
    "test_loader = torch.utils.data.DataLoader(testset, batch_size=test_batch_size, shuffle=False, **kwargs)\n",
    "\n",
    "\n",
    "def loss_function(x, label, x_hat, mean, log_var, logit):\n",
    "    reproduction_loss = nn.functional.binary_cross_entropy(x_hat, x, reduction='sum')\n",
    "    KLD      = - 0.5 * torch.sum(1+ log_var - mean.pow(2) - log_var.exp())\n",
    "    vae_loss = reproduction_loss + KLD\n",
    "    c_loss = nn.CrossEntropyLoss()(logit, label)\n",
    "    beta = 0.5\n",
    "    loss = vae_loss * beta + c_loss * (1 - beta) \n",
    "    return loss\n",
    "\n",
    "def vae_loss(x, x_hat, mean, log_var):\n",
    "    reproduction_loss = nn.functional.binary_cross_entropy(x_hat, x, reduction='sum')\n",
    "    KLD      = - 0.5 * torch.sum(1+ log_var - mean.pow(2) - log_var.exp())\n",
    "    vae_loss = reproduction_loss + KLD\n",
    "    return vae_loss\n",
    "\n",
    "def train(vae_model, c_model, data_loader, vae_optimizer, c_optimizer, epoch_num):\n",
    "    vae_model.train()\n",
    "    c_model.train()\n",
    "    loss_sum = 0\n",
    "    for batch_idx, (data, target) in enumerate(data_loader):\n",
    "        #data = data.view(batch_size, x_dim)\n",
    "        data, target = data.to(device), target.to(device)\n",
    "        vae_optimizer.zero_grad()\n",
    "        c_optimizer.zero_grad()\n",
    "        x_hat, mean, log_v, x_ = vae_model(data)\n",
    "        x_cat = torch.cat((mean, log_v),1)\n",
    "        logit = c_model(x_cat.detach())\n",
    "        loss = loss_function(data, target, x_hat, mean, log_v, logit)\n",
    "        loss_sum += loss\n",
    "        loss.backward()\n",
    "        # if epoch_num % 2 == 1:\n",
    "        c_optimizer.step()\n",
    "        vae_optimizer.step()\n",
    "    return loss_sum\n",
    "\n",
    "\n",
    "vae_model = VAE().to(device)\n",
    "vae_optimizer = optim.Adam(vae_model.parameters(), lr=lr)\n",
    "c_model = classifier(input_dim=256*2).to(device)\n",
    "c_optimizer = optim.Adam(c_model.parameters(), lr=lr)\n",
    "print(len(train_loader.dataset))\n",
    "for epoch in range(1, epochs+1):\n",
    "    loss = train(vae_model,c_model, train_loader, vae_optimizer, c_optimizer, epoch)\n",
    "    print('Epoch {}: Average loss: {:.6f}'.format(epoch, loss/len(train_loader.dataset)))\n",
    "\n"
   ]
  },
  {
   "cell_type": "code",
   "execution_count": 7,
   "metadata": {},
   "outputs": [],
   "source": [
    "import matplotlib.pyplot as plt\n",
    "def show_image(x, idx):\n",
    "    x = x.view(test_batch_size, 28, 28)\n",
    "\n",
    "    fig = plt.figure()\n",
    "    plt.imshow(x[idx].detach().cpu().numpy())"
   ]
  },
  {
   "cell_type": "code",
   "execution_count": 47,
   "metadata": {},
   "outputs": [],
   "source": [
    "def model_pred(x, vae_model, c_model):\n",
    "    x_hat, mean, log_v, x_ = vae_model(x)\n",
    "    x_cat = torch.cat((mean, log_v), 1)\n",
    "    logit = c_model(x_cat)\n",
    "    return logit, mean, log_v\n",
    "\n",
    "def testtime_update(vae_model, x_adv, learning_rate=0.1, num = 10):\n",
    "    x_hat_adv, mean, log_v, x_ = vae_model(x_adv)\n",
    "    x_adv = x_adv.detach()\n",
    "    for _ in range(num):\n",
    "        loss = vae_loss(x_adv, x_hat_adv, mean, log_v)\n",
    "        mean.retain_grad()\n",
    "        log_v.retain_grad()\n",
    "        loss.backward(retain_graph=True)\n",
    "        \n",
    "        with torch.no_grad():\n",
    "            mean.data -= learning_rate * mean.grad.data\n",
    "            log_v.data -= learning_rate * log_v.grad.data\n",
    "        mean.grad.data.zero_()\n",
    "        log_v.grad.data.zero_()\n",
    "        x_hat_adv = vae_model.decoder(vae_model.reparameterize(mean, log_v))\n",
    "\n",
    "    return mean, log_v\n"
   ]
  },
  {
   "cell_type": "code",
   "execution_count": 48,
   "metadata": {},
   "outputs": [],
   "source": [
    "def test(vae_model, c_model):\n",
    "    err_num = 0\n",
    "    err_adv = 0\n",
    "    c_model.eval()\n",
    "    vae_model.eval()\n",
    "    for data, target in test_loader:\n",
    "        data, target = data.to(device), target.to(device)\n",
    "        logit, _, _ = model_pred(data, vae_model, c_model)\n",
    "        err_num += (logit.data.max(1)[1] != target.data).float().sum()\n",
    "        x_adv = pgd(vae_model, c_model, data, target, 40, 0.3, 0.01)\n",
    "        m_adv, log_adv = testtime_update(vae_model, x_adv)\n",
    "        x_cat_adv = torch.cat((m_adv, log_adv), 1)\n",
    "        logit_adv = c_model(x_cat_adv)\n",
    "        err_adv += (logit_adv.data.max(1)[1] != target.data).float().sum()\n",
    "        \n",
    "    print(len(test_loader.dataset))\n",
    "    print(err_num)\n",
    "    print(err_adv)"
   ]
  },
  {
   "cell_type": "code",
   "execution_count": 49,
   "metadata": {},
   "outputs": [],
   "source": [
    "from torch.autograd import Variable\n",
    "def pgd(vae_model, c_model, X, label, num_steps, epsilon, step_size):\n",
    "    X_pgd = Variable(X.data, requires_grad=True)\n",
    "    for _ in range(num_steps):\n",
    "        opt = optim.SGD([X_pgd], lr=1e-3)\n",
    "        opt.zero_grad()\n",
    "        \n",
    "        with torch.enable_grad():\n",
    "            _, mean, log_v, _ = vae_model(X_pgd)\n",
    "            x_cat = torch.cat((mean, log_v), 1)\n",
    "            logit = c_model(x_cat)\n",
    "            loss = nn.CrossEntropyLoss()(logit, label)\n",
    "        loss.backward()\n",
    "        eta = step_size * X_pgd.grad.data.sign()\n",
    "        X_pgd = Variable(X_pgd.data + eta, requires_grad=True)\n",
    "        eta = torch.clamp(X_pgd.data - X.data, -epsilon, epsilon)\n",
    "        X_pgd = Variable(X.data + eta, requires_grad=True)\n",
    "        X_pgd = Variable(torch.clamp(X_pgd, 0, 1.0), requires_grad=True)\n",
    "    return X_pgd"
   ]
  },
  {
   "cell_type": "code",
   "execution_count": 50,
   "metadata": {},
   "outputs": [
    {
     "name": "stdout",
     "output_type": "stream",
     "text": [
      "10000\n",
      "tensor(109., device='cuda:0')\n",
      "tensor(6027., device='cuda:0')\n"
     ]
    }
   ],
   "source": [
    "test(vae_model, c_model)"
   ]
  },
  {
   "cell_type": "code",
   "execution_count": 108,
   "metadata": {},
   "outputs": [
    {
     "name": "stdout",
     "output_type": "stream",
     "text": [
      "tensor([2, 5, 4, 7, 9, 8, 3, 4, 8, 4, 5, 5, 4, 4, 3, 3, 4, 2, 8, 9, 7, 5, 9, 2,\n",
      "        9, 9, 9, 9, 5, 3, 5, 4, 5, 0, 2, 3, 2, 8, 3, 3, 8, 5, 9, 4, 5, 8, 3, 4,\n",
      "        9, 8, 2, 5, 9, 8, 3, 5, 7, 8, 4, 4, 9, 3, 5, 2, 4, 5, 0, 9, 5, 5, 2, 7,\n",
      "        5, 7, 8, 9, 5, 9, 4, 8, 9, 5, 4, 9, 3, 3, 8, 5, 0, 6, 9, 4, 4, 9, 2, 9,\n",
      "        9, 5, 5, 4, 2, 5, 0, 9, 5, 4, 0, 8, 4, 9, 3, 1, 5, 4, 2, 9, 3, 8, 4, 8,\n",
      "        9, 8, 9, 0, 4, 4, 9, 8, 3, 8, 9, 9, 8, 2, 3, 3, 9, 8, 2, 9, 3, 9, 2, 8,\n",
      "        9, 3, 9, 4, 5, 9, 4, 8, 8, 8, 9, 4, 4, 9, 5, 9, 8, 5, 3, 7, 4, 3, 2, 0,\n",
      "        8, 5, 9, 8, 3, 5, 3, 9, 8, 5, 8, 3, 3, 3, 8, 2, 3, 4, 3, 8, 7, 4, 8, 2,\n",
      "        4, 4, 9, 8, 5, 5, 9, 3], device='cuda:0')\n"
     ]
    }
   ],
   "source": [
    "x_hat_adv, mean, log_v, _ = vae_model(x_adv)\n",
    "x_cat = torch.cat((mean, log_v), 1)\n",
    "logit = c_model(x_cat)\n",
    "print(logit.max(1)[1])"
   ]
  },
  {
   "cell_type": "code",
   "execution_count": 113,
   "metadata": {},
   "outputs": [
    {
     "data": {
      "image/png": "[encoded data removed]",
      "text/plain": [
       "<Figure size 432x288 with 1 Axes>"
      ]
     },
     "metadata": {
      "needs_background": "light"
     },
     "output_type": "display_data"
    }
   ],
   "source": [
    "idex = 2\n",
    "show_image(x, idx=idex)"
   ]
  },
  {
   "cell_type": "code",
   "execution_count": 114,
   "metadata": {},
   "outputs": [
    {
     "data": {
      "image/png": "[encoded data removed]",
      "text/plain": [
       "<Figure size 432x288 with 1 Axes>"
      ]
     },
     "metadata": {
      "needs_background": "light"
     },
     "output_type": "display_data"
    }
   ],
   "source": [
    "show_image(x_hat, idx=idex)"
   ]
  },
  {
   "cell_type": "code",
   "execution_count": 115,
   "metadata": {},
   "outputs": [
    {
     "data": {
      "image/png": "[encoded data removed]",
      "text/plain": [
       "<Figure size 432x288 with 1 Axes>"
      ]
     },
     "metadata": {
      "needs_background": "light"
     },
     "output_type": "display_data"
    }
   ],
   "source": [
    "show_image(x_adv, idx=idex)"
   ]
  },
  {
   "cell_type": "code",
   "execution_count": 116,
   "metadata": {},
   "outputs": [
    {
     "data": {
      "image/png": "[encoded data removed]",
      "text/plain": [
       "<Figure size 432x288 with 1 Axes>"
      ]
     },
     "metadata": {
      "needs_background": "light"
     },
     "output_type": "display_data"
    }
   ],
   "source": [
    "show_image(x_hat_adv, idx=idex)"
   ]
  },
  {
   "cell_type": "code",
   "execution_count": null,
   "metadata": {},
   "outputs": [],
   "source": []
  }
 ],
 "metadata": {
  "interpreter": {
   "hash": "60f3562df18e56d69cac921e4ec80aacc06b2c12e8dcb1e1fa8771458e773d18"
  },
  "kernelspec": {
   "display_name": "Python 3.6.13 ('trades')",
   "language": "python",
   "name": "python3"
  },
  "language_info": {
   "codemirror_mode": {
    "name": "ipython",
    "version": 3
   },
   "file_extension": ".py",
   "mimetype": "text/x-python",
   "name": "python",
   "nbconvert_exporter": "python",
   "pygments_lexer": "ipython3",
   "version": "3.6.13"
  },
  "orig_nbformat": 4
 },
 "nbformat": 4,
 "nbformat_minor": 2
}
