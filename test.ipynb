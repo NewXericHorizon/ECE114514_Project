{
 "cells": [
  {
   "cell_type": "code",
   "execution_count": 17,
   "metadata": {},
   "outputs": [
    {
     "name": "stdout",
     "output_type": "stream",
     "text": [
      "60000\n"
     ]
    }
   ],
   "source": [
    "import torch\n",
    "import torchvision\n",
    "import torch.nn as nn\n",
    "from torchvision import transforms\n",
    "from model.VAE import *\n",
    "import torch.optim as optim\n",
    "\n",
    "# import argparse\n",
    "\n",
    "# parser = argparse.ArgumentParser(description='PyTorch CIFAR10 VAE Training')\n",
    "# parser.add_argument('--batch-size', type=int, default=200, metavar='N',\n",
    "#                     help='input batch size for training (default: 128)')\n",
    "# parser.add_argument('--test-batch-size', type=int, default=200, metavar='N',\n",
    "#                     help='input batch size for testing (default: 128)')\n",
    "# parser.add_argument('--x-dim', type=int, default=784)\n",
    "# parser.add_argument('--hidden-dim', type=int, default=400)\n",
    "# parser.add_argument('--latent-dim', type=int, default=200)\n",
    "# parser.add_argument('--epochs', type=int, default=30)\n",
    "# args = parser.parse_args()\n",
    "\n",
    "torch.manual_seed(1)\n",
    "lr = 1e-3\n",
    "use_cuda = torch.cuda.is_available()\n",
    "device = torch.device(\"cuda\" if use_cuda else \"cpu\")\n",
    "kwargs = {'num_workers': 1, 'pin_memory': True} if use_cuda else {}\n",
    "transform_train = transforms.Compose([\n",
    "    transforms.RandomCrop(32, padding=4),\n",
    "    transforms.RandomHorizontalFlip(),\n",
    "    transforms.ToTensor(),\n",
    "])\n",
    "transform_test = transforms.Compose([\n",
    "    transforms.ToTensor(),\n",
    "])\n",
    "batch_size = 400\n",
    "test_batch_size = 200\n",
    "x_dim = 784\n",
    "latent_dim = 200\n",
    "epochs = 50\n",
    "trainset = torchvision.datasets.MNIST(root='../data', train=True, download=True, transform=transform_test)\n",
    "train_loader = torch.utils.data.DataLoader(trainset, batch_size=batch_size, shuffle=True, **kwargs)\n",
    "testset = torchvision.datasets.MNIST(root='../data', train=False, download=True, transform=transform_test)\n",
    "test_loader = torch.utils.data.DataLoader(testset, batch_size=test_batch_size, shuffle=False, **kwargs)\n",
    "\n",
    "\n",
    "def loss_function(x, label, x_hat, mean, log_var, logit):\n",
    "    reproduction_loss = nn.functional.binary_cross_entropy(x_hat, x, reduction='sum')\n",
    "    KLD      = - 0.5 * torch.sum(1+ log_var - mean.pow(2) - log_var.exp())\n",
    "    vae_loss = reproduction_loss + KLD\n",
    "    c_loss = nn.CrossEntropyLoss()(logit, label)\n",
    "    beta = 0.5\n",
    "    loss = vae_loss * beta + c_loss * (1 - beta) \n",
    "    return loss\n",
    "\n",
    "def vae_loss(x, x_hat, mean, log_var):\n",
    "    reproduction_loss = nn.functional.binary_cross_entropy(x_hat, x, reduction='sum')\n",
    "    KLD      = - 0.5 * torch.sum(1+ log_var - mean.pow(2) - log_var.exp())\n",
    "    vae_loss = reproduction_loss + KLD\n",
    "    return vae_loss\n",
    "\n",
    "def train(vae_model, c_model, data_loader, vae_optimizer, c_optimizer, epoch_num):\n",
    "    vae_model.train()\n",
    "    c_model.train()\n",
    "    loss_sum = 0\n",
    "    for batch_idx, (data, target) in enumerate(data_loader):\n",
    "        #data = data.view(batch_size, x_dim)\n",
    "        data, target = data.to(device), target.to(device)\n",
    "        vae_optimizer.zero_grad()\n",
    "        c_optimizer.zero_grad()\n",
    "        x_hat, mean, log_v = vae_model(data)\n",
    "        x_cat = torch.cat((mean, log_v),1)\n",
    "        logit = c_model(x_cat.detach())\n",
    "        loss = loss_function(data, target, x_hat, mean, log_v, logit)\n",
    "        loss_sum += loss\n",
    "        loss.backward()\n",
    "        # if epoch_num % 2 == 1:\n",
    "        c_optimizer.step()\n",
    "        vae_optimizer.step()\n",
    "    return loss_sum\n",
    "\n",
    "\n",
    "vae_model = VAE().to(device)\n",
    "vae_optimizer = optim.Adam(vae_model.parameters(), lr=lr)\n",
    "c_model = classifier(input_dim=256*2).to(device)\n",
    "c_optimizer = optim.Adam(c_model.parameters(), lr=lr)\n",
    "print(len(train_loader.dataset))\n",
    "for epoch in range(1, epochs+1):\n",
    "    loss = train(vae_model,c_model, train_loader, vae_optimizer, c_optimizer, epoch)\n",
    "    print('Epoch {}: Average loss: {:.6f}'.format(epoch, loss/len(train_loader.dataset)))\n",
    "\n"
   ]
  },
  {
   "cell_type": "code",
   "execution_count": 3,
   "metadata": {},
   "outputs": [],
   "source": [
    "import matplotlib.pyplot as plt\n",
    "def show_image(x, idx):\n",
    "    x = x.view(test_batch_size, 28, 28)\n",
    "    fig = plt.figure()\n",
    "    plt.imshow(x[idx].detach().cpu().numpy())"
   ]
  },
  {
   "cell_type": "code",
   "execution_count": 4,
   "metadata": {},
   "outputs": [],
   "source": [
    "def model_pred(x, vae_model, c_model):\n",
    "    x_hat, mean, log_v = vae_model(x)\n",
    "    x_cat = torch.cat((mean, log_v), 1)\n",
    "    logit = c_model(x_cat)\n",
    "    return logit, mean, log_v\n",
    "\n",
    "def testtime_update(vae_model, x_adv, learning_rate=0.1, num = 20):\n",
    "    x_hat_adv, mean, log_v= vae_model(x_adv)\n",
    "    x_adv = x_adv.detach()\n",
    "    for _ in range(num):\n",
    "        loss = vae_loss(x_adv, x_hat_adv, mean, log_v)\n",
    "        mean.retain_grad()\n",
    "        log_v.retain_grad()\n",
    "        loss.backward(retain_graph=True)\n",
    "        with torch.no_grad():\n",
    "            mean.data -= learning_rate * mean.grad.data\n",
    "            log_v.data -= learning_rate * log_v.grad.data\n",
    "        mean.grad.data.zero_()\n",
    "        log_v.grad.data.zero_()\n",
    "        x_hat_adv = vae_model.decoder(vae_model.reparameterize(mean, log_v))\n",
    "    return mean, log_v"
   ]
  },
  {
   "cell_type": "code",
   "execution_count": 5,
   "metadata": {},
   "outputs": [],
   "source": [
    "def test(vae_model, c_model):\n",
    "    err_num = 0\n",
    "    err_adv = 0\n",
    "    c_model.eval()\n",
    "    vae_model.eval()\n",
    "    for data, target in test_loader:\n",
    "        data, target = data.to(device), target.to(device)\n",
    "        logit, _, _ = model_pred(data, vae_model, c_model)\n",
    "        err_num += (logit.data.max(1)[1] != target.data).float().sum()\n",
    "        x_adv = pgd(vae_model, c_model, data, target, 40, 0.3, 0.01)\n",
    "        m_adv, log_adv = testtime_update(vae_model, x_adv)\n",
    "        x_cat_adv = torch.cat((m_adv, log_adv), 1)\n",
    "        logit_adv = c_model(x_cat_adv)\n",
    "        err_adv += (logit_adv.data.max(1)[1] != target.data).float().sum()\n",
    "    print(len(test_loader.dataset))\n",
    "    print(err_num)\n",
    "    print(err_adv)"
   ]
  },
  {
   "cell_type": "code",
   "execution_count": 6,
   "metadata": {},
   "outputs": [],
   "source": [
    "import os\n",
    "os.environ['CUDA_LAUNCH_BLOCKING'] = \"1\"\n",
    "from torch.autograd import Variable\n",
    "def pgd(vae_model, c_model, X, label, num_steps, epsilon, step_size):\n",
    "    X_pgd = Variable(X.data, requires_grad=True)\n",
    "    for _ in range(num_steps):\n",
    "        opt = optim.SGD([X_pgd], lr=1e-3)\n",
    "        opt.zero_grad()\n",
    "        with torch.enable_grad():\n",
    "            _, mean, log_v = vae_model(X_pgd)\n",
    "            x_cat = torch.cat((mean, log_v), 1)\n",
    "            logit = c_model(x_cat)\n",
    "            loss = nn.CrossEntropyLoss()(logit, label)\n",
    "        loss.backward()\n",
    "        eta = step_size * X_pgd.grad.data.sign()\n",
    "        X_pgd = Variable(X_pgd.data + eta, requires_grad=True)\n",
    "        eta = torch.clamp(X_pgd.data - X.data, -epsilon, epsilon)\n",
    "        X_pgd = Variable(X.data + eta, requires_grad=True)\n",
    "        X_pgd = Variable(torch.clamp(X_pgd, 0, 1.0), requires_grad=True)\n",
    "    return X_pgd"
   ]
  },
  {
   "cell_type": "code",
   "execution_count": 7,
   "metadata": {},
   "outputs": [
    {
     "name": "stdout",
     "output_type": "stream",
     "text": [
      "10000\n",
      "tensor(109., device='cuda:0')\n",
      "tensor(6944., device='cuda:0')\n"
     ]
    }
   ],
   "source": [
    "test(vae_model, c_model)"
   ]
  },
  {
   "cell_type": "code",
   "execution_count": 8,
   "metadata": {},
   "outputs": [
    {
     "name": "stdout",
     "output_type": "stream",
     "text": [
      "tensor([3, 1, 4, 5, 9, 7, 9, 4, 8, 4, 5, 3, 4, 7, 3, 3, 7, 5, 8, 9, 7, 5, 4, 2,\n",
      "        9, 7, 9, 9, 5, 4, 5, 9, 5, 6, 2, 5, 2, 7, 5, 4, 4, 2, 9, 4, 5, 8, 9, 4,\n",
      "        9, 3, 3, 5, 9, 3, 8, 5, 7, 7, 4, 7, 5, 2, 7, 2, 9, 9, 9, 9, 5, 6, 5, 6,\n",
      "        5, 7, 4, 9, 5, 1, 4, 5, 9, 5, 4, 9, 5, 8, 9, 7, 2, 7, 5, 5, 4, 9, 8, 9,\n",
      "        9, 5, 5, 4, 5, 6, 2, 3, 5, 7, 5, 6, 4, 8, 2, 1, 5, 4, 3, 9, 9, 3, 4, 7,\n",
      "        9, 6, 5, 9, 4, 4, 9, 8, 3, 9, 9, 5, 3, 2, 3, 4, 5, 4, 5, 9, 3, 9, 2, 3,\n",
      "        9, 4, 9, 4, 5, 5, 4, 8, 8, 3, 4, 9, 4, 7, 2, 9, 8, 9, 2, 9, 4, 3, 5, 3,\n",
      "        8, 9, 9, 2, 3, 5, 8, 9, 4, 9, 4, 2, 4, 2, 3, 2, 3, 4, 3, 3, 5, 3, 7, 9,\n",
      "        2, 8, 5, 8, 3, 4, 9, 3], device='cuda:0')\n"
     ]
    }
   ],
   "source": [
    "for data, target in test_loader:\n",
    "    x, y = data.to(device), target.to(device)\n",
    "    x_adv = pgd(vae_model, c_model, x, y, 40, 0.3, 0.01)\n",
    "    break\n",
    "x_hat, _,_ = vae_model(x)\n",
    "x_hat_adv, mean, log_v = vae_model(x_adv)\n",
    "x_cat = torch.cat((mean, log_v), 1)\n",
    "logit = c_model(x_cat)\n",
    "print(logit.max(1)[1])"
   ]
  },
  {
   "cell_type": "code",
   "execution_count": 13,
   "metadata": {},
   "outputs": [
    {
     "data": {
      "image/png": "[encoded data removed]",
      "text/plain": [
       "<Figure size 432x288 with 1 Axes>"
      ]
     },
     "metadata": {
      "needs_background": "light"
     },
     "output_type": "display_data"
    }
   ],
   "source": [
    "idex = 3\n",
    "show_image(x, idx=idex)"
   ]
  },
  {
   "cell_type": "code",
   "execution_count": 14,
   "metadata": {},
   "outputs": [
    {
     "data": {
      "image/png": "[encoded data removed]",
      "text/plain": [
       "<Figure size 432x288 with 1 Axes>"
      ]
     },
     "metadata": {
      "needs_background": "light"
     },
     "output_type": "display_data"
    }
   ],
   "source": [
    "show_image(x_hat, idx=idex)"
   ]
  },
  {
   "cell_type": "code",
   "execution_count": 15,
   "metadata": {},
   "outputs": [
    {
     "data": {
      "image/png": "[encoded data removed]",
      "text/plain": [
       "<Figure size 432x288 with 1 Axes>"
      ]
     },
     "metadata": {
      "needs_background": "light"
     },
     "output_type": "display_data"
    }
   ],
   "source": [
    "show_image(x_adv, idx=idex)"
   ]
  },
  {
   "cell_type": "code",
   "execution_count": 16,
   "metadata": {},
   "outputs": [
    {
     "data": {
      "image/png": "[encoded data removed]",
      "text/plain": [
       "<Figure size 432x288 with 1 Axes>"
      ]
     },
     "metadata": {
      "needs_background": "light"
     },
     "output_type": "display_data"
    }
   ],
   "source": [
    "show_image(x_hat_adv, idx=idex)"
   ]
  },
  {
   "cell_type": "code",
   "execution_count": null,
   "metadata": {},
   "outputs": [],
   "source": []
  }
 ],
 "metadata": {
  "interpreter": {
   "hash": "60f3562df18e56d69cac921e4ec80aacc06b2c12e8dcb1e1fa8771458e773d18"
  },
  "kernelspec": {
   "display_name": "Python 3.6.13 ('trades')",
   "language": "python",
   "name": "python3"
  },
  "language_info": {
   "codemirror_mode": {
    "name": "ipython",
    "version": 3
   },
   "file_extension": ".py",
   "mimetype": "text/x-python",
   "name": "python",
   "nbconvert_exporter": "python",
   "pygments_lexer": "ipython3",
   "version": "3.7.11"
  },
  "orig_nbformat": 4
 },
 "nbformat": 4,
 "nbformat_minor": 2
}
