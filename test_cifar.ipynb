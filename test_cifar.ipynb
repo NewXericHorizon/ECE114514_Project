{
 "cells": [
  {
   "cell_type": "code",
   "execution_count": 1,
   "metadata": {},
   "outputs": [
    {
     "name": "stdout",
     "output_type": "stream",
     "text": [
      "Files already downloaded and verified\n",
      "Files already downloaded and verified\n"
     ]
    }
   ],
   "source": [
    "import torch\n",
    "import torchvision\n",
    "import torch.nn as nn\n",
    "from torch.autograd import Variable\n",
    "from torchvision import datasets, transforms\n",
    "from model.wideVAE import *\n",
    "from blackbox_pgd_model.wideresnet_update import *\n",
    "from pgd_attack import *\n",
    "import torch.optim as optim\n",
    "import numpy as np\n",
    "from util import *\n",
    "import os\n",
    "os.environ['CUDA_LAUNCH_BLOCKING'] = \"1\"\n",
    "\n",
    "# parser = argparse.ArgumentParser(description='PyTorch CIFAR10 VAE Training')\n",
    "# parser.add_argument('--batch-size', type=int, default=200, metavar='N',\n",
    "#                     help='input batch size for training (default: 128)')\n",
    "# parser.add_argument('--test-batch-size', type=int, default=200, metavar='N',\n",
    "#                     help='input batch size for testing (default: 128)')\n",
    "# parser.add_argument('--x-dim', type=int, default=784)\n",
    "# parser.add_argument('--hidden-dim', type=int, default=400)\n",
    "# parser.add_argument('--latent-dim', type=int, default=200)\n",
    "# parser.add_argument('--epochs', type=int, default=30)\n",
    "# args = parser.parse_args()\n",
    "torch.manual_seed(1)\n",
    "torch.cuda.manual_seed(1)\n",
    "torch.backends.cudnn.benchmark = False\n",
    "torch.backends.cudnn.deterministic = True\n",
    "use_cuda = torch.cuda.is_available()\n",
    "device = torch.device(\"cuda\" if use_cuda else \"cpu\")\n",
    "kwargs = {'num_workers': 1, 'pin_memory': True} if use_cuda else {}\n",
    "transform_train = transforms.Compose([\n",
    "    transforms.RandomCrop(32, padding=4),\n",
    "    transforms.RandomHorizontalFlip(),\n",
    "    transforms.ToTensor(),\n",
    "])\n",
    "transform_test = transforms.Compose([\n",
    "    transforms.ToTensor(),\n",
    "])\n",
    "batch_size = 200\n",
    "test_batch_size = 200\n",
    "beta = 0.5\n",
    "trainset = torchvision.datasets.CIFAR10(root='../data', train=True, download=True, transform=transform_train)\n",
    "train_loader = torch.utils.data.DataLoader(trainset, batch_size=batch_size, shuffle=True, **kwargs)\n",
    "testset = torchvision.datasets.CIFAR10(root='../data', train=False, download=True, transform=transform_test)\n",
    "test_loader = torch.utils.data.DataLoader(testset, batch_size=test_batch_size, shuffle=False, **kwargs)\n",
    "\n",
    "def train(vae_model, c_model, data_loader, vae_optimizer, c_optimizer, epoch_num):\n",
    "    vae_model.train()\n",
    "    c_model.train()\n",
    "    v_loss_sum = 0\n",
    "    c_loss_sum = 0\n",
    "    for batch_idx, (data, target) in enumerate(data_loader):\n",
    "        #data = data.view(batch_size, x_dim)\n",
    "        data, target = data.to(device), target.to(device)\n",
    "        vae_optimizer.zero_grad()\n",
    "        c_optimizer.zero_grad()\n",
    "        x_hat, mean, log_v, x_ = vae_model(data)\n",
    "        # x_cat = torch.cat((mean, log_v),1)\n",
    "        logit = c_model(x_.detach().view(-1,160,8,8))\n",
    "        #logit = c_model(x_cat)\n",
    "        v_loss, c_loss = loss_function_mean(data, target, x_hat, mean, log_v, logit)\n",
    "        #print(loss)\n",
    "        v_loss_sum += v_loss\n",
    "        c_loss_sum += c_loss\n",
    "        # if epoch_num % 2 == 1:\n",
    "        if epoch_num <= 30:\n",
    "            v_loss.backward()\n",
    "            vae_optimizer.step()\n",
    "            c_loss.backward()\n",
    "        else:\n",
    "            c_loss.backward()\n",
    "            c_optimizer.step()\n",
    "            v_loss.backward()\n",
    "    return v_loss_sum, c_loss_sum\n",
    "\n",
    "def eval_train(vae_model, c_model):\n",
    "    vae_model.eval()\n",
    "    c_model.eval()\n",
    "    err_num = 0\n",
    "    with torch.no_grad():\n",
    "        for data, target in train_loader:\n",
    "            data, target = data.to(device), target.to(device)\n",
    "            x_hat, mean, log_v, x_ = vae_model(data)\n",
    "            logit = c_model(x_.detach().view(-1,160,8,8))\n",
    "            err_num += (logit.data.max(1)[1] != target.data).float().sum()\n",
    "    print('train error num:{}'.format(err_num))\n",
    "def eval_test(vae_model, c_model):\n",
    "    vae_model.eval()\n",
    "    c_model.eval()\n",
    "    err_num = 0\n",
    "    with torch.no_grad():\n",
    "        for data, target in test_loader:\n",
    "            data, target = data.to(device), target.to(device)\n",
    "            x_hat, mean, log_v, x_ = vae_model(data)\n",
    "            logit = c_model(x_.detach().view(-1,160,8,8))\n",
    "            err_num += (logit.data.max(1)[1] != target.data).float().sum()\n",
    "    print('test error num:{}'.format(err_num))\n"
   ]
  },
  {
   "cell_type": "code",
   "execution_count": 2,
   "metadata": {},
   "outputs": [],
   "source": [
    "def testtime_update(vae_model, c_model, x_adv, target, learning_rate=0.1, num = 30, mode = 'mean'):\n",
    "    x_adv = x_adv.detach()\n",
    "    x_hat_adv, mean, log_v, x_ = vae_model(x_adv)\n",
    "    for _ in range(num):\n",
    "        if (x_hat_adv != x_hat_adv).sum() > 0:\n",
    "            print('nan Error')\n",
    "            exit()\n",
    "        if mode == 'mean':\n",
    "            loss = nn.functional.binary_cross_entropy(x_hat_adv, x_adv, size_average=False, reduction='mean')\n",
    "            # loss = vae_loss_mean(x_adv, x_hat_adv, mean, log_v)\n",
    "        else:\n",
    "            loss = nn.functional.binary_cross_entropy(x_hat_adv, x_adv, reduction='sum')\n",
    "            # loss = vae_loss_sum(x_adv, x_hat_adv, mean, log_v)\n",
    "        x_.retain_grad()\n",
    "        loss.backward(retain_graph=True)\n",
    "        with torch.no_grad():\n",
    "            x_.data -= learning_rate * x_.grad.data\n",
    "        x_.grad.data.zero_()\n",
    "        x_hat_adv = vae_model.re_forward(x_)\n",
    "    logit_adv = c_model(x_.view(-1,128,8,8))\n",
    "        # print((logit_adv.data.max(1)[1] != target.data).float().sum())\n",
    "    return logit_adv"
   ]
  },
  {
   "cell_type": "code",
   "execution_count": 3,
   "metadata": {},
   "outputs": [],
   "source": [
    "def test(vae_model, c_model, source_model):\n",
    "    err_num = 0\n",
    "    err_adv = 0\n",
    "    c_model.eval()\n",
    "    vae_model.eval()\n",
    "    for data, target in test_loader:\n",
    "        data, target = data.to(device), target.to(device)\n",
    "        data = Variable(data.data, requires_grad=True)\n",
    "        _,_,_,x_ = vae_model(data)\n",
    "        logit = c_model(x_.view(-1,128,8,8))\n",
    "        # err_num += (logit.data.max(1)[1] != target.data).float().sum()\n",
    "\n",
    "        # x_adv = pgd_cifar_blackbox(vae_model, c_model, source_model, data, target, 20, 0.03, 0.003)\n",
    "        x_adv = pgd_cifar(vae_model, c_model, data, target, 20, 0.03, 0.003)\n",
    "        _,_,_,x_ = vae_model(x_adv)\n",
    "        logit_adv = c_model(x_.view(-1,128,8,8))\n",
    "        logit_nat_new = testtime_update(vae_model, c_model,  data, target,learning_rate=0.01, num=100)\n",
    "        logit_adv_new = testtime_update(vae_model, c_model,  x_adv, target,learning_rate=0.1, num=100)\n",
    "        return logit, logit_adv,logit_nat_new, logit_adv_new, target\n",
    "        # logit_adv = diff_update_cifar(vae_model,c_model, x_adv, target,learning_rate=0.05, num=500)\n",
    "        # _,_,_,x_adv_ = vae_model(x_adv)\n",
    "        # logit_adv = c_model(x_adv_.view(-1,160,8,8))\n",
    "        # logit = c_model(x_.view(-1,160,8,8))\n",
    "        adv_num = (logit_adv.data.max(1)[1] != target.data).float().sum()\n",
    "        # exit()\n",
    "        print(adv_num)\n",
    "        err_adv += adv_num\n",
    "        # x_cat_adv = torch.cat((m_adv, log_adv), 1)\n",
    "        # logit_adv = c_model(x_cat_adv)\n",
    "        # err_adv += (logit_adv.data.max(1)[1] != target.data).float().sum()\n",
    "    print(len(test_loader.dataset))\n",
    "    print(err_num)\n",
    "    print(err_adv)"
   ]
  },
  {
   "cell_type": "code",
   "execution_count": 4,
   "metadata": {},
   "outputs": [],
   "source": [
    "def adjust_learning_rate(optimizer, epoch, lr):\n",
    "    \"\"\"decrease the learning rate\"\"\"\n",
    "    lr_ = lr\n",
    "    if epoch >= 80:\n",
    "        lr_ = lr * 0.1\n",
    "    if epoch >= 90:\n",
    "        lr_ = lr * 0.01\n",
    "    if epoch >= 100:\n",
    "        lr_ = lr * 0.001\n",
    "    for param_group in optimizer.param_groups:\n",
    "        param_group['lr'] = lr_\n",
    "    "
   ]
  },
  {
   "cell_type": "code",
   "execution_count": 5,
   "metadata": {},
   "outputs": [],
   "source": [
    "source_model = WideResNet().to(device)\n",
    "# source_model_path = './blackbox_pgd_model/model-wideres-epoch76.pt'\n",
    "vae_model = wide_VAE(zDim=256).to(device)\n",
    "c_model = classifier().to(device)\n",
    "vae_model_path = './model-checkpoint/cifar-vae-model-98.pt'\n",
    "c_model_path = './model-checkpoint/cifar-c-model-98.pt'\n",
    "# source_model.load_state_dict(torch.load(source_model_path))\n",
    "vae_model.load_state_dict(torch.load(vae_model_path))\n",
    "c_model.load_state_dict(torch.load(c_model_path))"
   ]
  },
  {
   "cell_type": "code",
   "execution_count": 6,
   "metadata": {},
   "outputs": [],
   "source": [
    "\n",
    "# lr = 0.001\n",
    "# epochs = 90\n",
    "# vae_model = wide_VAE(zDim=256).to(device)\n",
    "# vae_optimizer = optim.Adam(vae_model.parameters(), lr=lr)\n",
    "# c_model = classifier().to(device)\n",
    "# c_optimizer = optim.Adam(c_model.parameters(), lr=lr*10)\n",
    "# print(len(train_loader.dataset))\n",
    "# for epoch in range(1, epochs+1):\n",
    "#     adjust_learning_rate(c_optimizer, epoch, lr*10)\n",
    "#     v_loss, c_loss = train(vae_model,c_model, train_loader, vae_optimizer, c_optimizer, epoch)\n",
    "#     print('Epoch {}: VAE Average loss: {:.6f}'.format(epoch, v_loss/len(train_loader.dataset)))\n",
    "#     print('Epoch {}: Classifier Average loss: {:.6f}'.format(epoch, c_loss/len(train_loader.dataset)))\n",
    "# test(vae_model, c_model)"
   ]
  },
  {
   "cell_type": "code",
   "execution_count": 7,
   "metadata": {},
   "outputs": [],
   "source": [
    "import matplotlib.pyplot as plt\n",
    "def show_image(x, idx):\n",
    "    x = x.view(test_batch_size,3, 32, 32)\n",
    "    # x = x.detach().cpu().numpy()\n",
    "    # x = x.transpose(0,2,3,1).astype(\"uint8\")\n",
    "    fig = plt.figure()\n",
    "    plt.imshow(transforms.ToPILImage()(x[idx]))"
   ]
  },
  {
   "cell_type": "code",
   "execution_count": 6,
   "metadata": {},
   "outputs": [
    {
     "name": "stderr",
     "output_type": "stream",
     "text": [
      "/home/hao/anaconda3/envs/test/lib/python3.7/site-packages/torch/nn/_reduction.py:42: UserWarning: size_average and reduce args will be deprecated, please use reduction='sum' instead.\n",
      "  warnings.warn(warning.format(ret))\n"
     ]
    }
   ],
   "source": [
    "logit, logit_adv,logit_nat_new, logit_adv_new, target = test(vae_model, c_model, source_model)"
   ]
  },
  {
   "cell_type": "code",
   "execution_count": 9,
   "metadata": {},
   "outputs": [
    {
     "name": "stdout",
     "output_type": "stream",
     "text": [
      "tensor(28, device='cuda:0')\n",
      "tensor(35, device='cuda:0')\n",
      "tensor([3., 8., 8., 0., 4., 6., 1., 6., 3., 1., 0., 9., 5., 7., 9., 8., 5., 7.,\n",
      "        8., 6., 7., 0., 4., 9., 5., 2., 4., 0., 9., 6., 4., 5., 4., 2., 9., 7.,\n",
      "        4., 1., 9., 5., 4., 6., 5., 6., 0., 9., 3., 9., 7., 6., 9., 8., 5., 3.,\n",
      "        8., 8., 5., 3., 5., 6., 7., 5., 6., 9., 6., 2., 1., 2., 7., 7., 4., 5.,\n",
      "        8., 8., 9., 2., 9., 3., 3., 8., 8., 1., 1., 7., 2., 7., 2., 7., 8., 9.,\n",
      "        0., 3., 8., 6., 4., 5., 6., 0., 0., 7., 4., 5., 6., 3., 1., 1., 3., 6.,\n",
      "        8., 7., 3., 0., 2., 2., 1., 3., 0., 9., 7., 5., 8., 7., 1., 2., 8., 7.,\n",
      "        8., 3., 5., 3., 4., 1., 8., 9., 5., 2., 9., 7., 2., 8., 6., 5., 6., 3.,\n",
      "        8., 7., 6., 2., 5., 2., 8., 9., 6., 0., 0., 5., 2., 9., 5., 4., 2., 1.,\n",
      "        5., 6., 0., 2., 8., 6., 5., 0., 9., 6., 9., 8., 9., 9., 3., 7., 5., 0.,\n",
      "        0., 5., 2., 2., 0., 8., 6., 2., 2., 0., 5., 8., 0., 1., 7., 5., 8., 8.,\n",
      "        7., 8.], device='cuda:0')\n",
      "tensor([3, 8, 8, 0, 6, 6, 1, 6, 3, 1, 0, 9, 5, 7, 9, 8, 5, 7, 8, 6, 7, 0, 4, 9,\n",
      "        5, 2, 4, 0, 9, 6, 6, 5, 4, 5, 9, 2, 4, 1, 9, 5, 4, 6, 5, 6, 0, 9, 3, 9,\n",
      "        7, 6, 9, 8, 0, 3, 8, 8, 7, 7, 4, 6, 7, 3, 6, 3, 6, 2, 1, 2, 3, 7, 2, 6,\n",
      "        8, 8, 0, 2, 9, 3, 3, 8, 8, 1, 1, 7, 2, 5, 2, 7, 8, 9, 0, 3, 8, 6, 4, 6,\n",
      "        6, 0, 0, 7, 4, 5, 6, 3, 1, 1, 3, 6, 8, 7, 4, 0, 6, 2, 1, 3, 0, 4, 2, 7,\n",
      "        8, 3, 1, 2, 8, 0, 8, 3, 5, 2, 4, 1, 8, 9, 1, 2, 9, 7, 2, 9, 6, 5, 6, 3,\n",
      "        8, 7, 6, 2, 5, 2, 8, 9, 6, 0, 0, 5, 2, 9, 5, 4, 2, 1, 6, 6, 8, 4, 8, 4,\n",
      "        5, 0, 9, 9, 9, 8, 9, 9, 3, 7, 5, 0, 0, 5, 2, 2, 3, 8, 6, 3, 4, 0, 5, 8,\n",
      "        0, 1, 7, 2, 8, 8, 7, 8], device='cuda:0')\n"
     ]
    }
   ],
   "source": [
    "# label = logit_calculate(logit_adv, logit_adv_new)\n",
    "label = logit_calculate(logit, logit_nat_new)\n",
    "label = label.to(device)\n",
    "print((logit.data.max(1)[1]!=target).sum())\n",
    "print((label!=target).sum())\n",
    "print(label)\n",
    "print(target)"
   ]
  },
  {
   "cell_type": "code",
   "execution_count": 16,
   "metadata": {},
   "outputs": [
    {
     "name": "stdout",
     "output_type": "stream",
     "text": [
      "[-4.27, -0.05, 5.44, -0.9, 4.33, -0.08, 1.1, -0.88, -0.22, 0.22, -2.77, 1.57, -0.68, -0.6, -0.14, 12.37, -0.53, 0.83, -1.83, -3.88, -2.3, -1.12, -3.69, 1.77, -2.63, -3.94, -4.21, -0.97, -1.1, -0.45, -15.13, -3.57, -0.35, 9.06, 2.16, 13.74, -0.91, -3.39, 0.47, 0.86, 1.6, -0.22, 3.35, -1.58, 0.97, 0.83, 1.65, 24.35, 0.57, 0.33, 0.06, -1.38, 10.67, -0.71, 2.19, 0.85, 4.74, -5.61, 0.52, -2.57, -0.39, 3.46, -0.69, 2.92, -2.46, 6.08, 1.58, 2.19, 10.43, -1.57, -15.63, -10.95, 4.56, 0.41, 39.85, 0.07, -4.38, 0.19, -3.48, 3.62, -2.22, -1.42, -0.0, -1.16, 0.93, -0.78, 2.76, -6.01, 3.42, 0.95, 0.69, -1.41, 0.53, -2.19, -7.31, 1.32, 1.47, -0.96, 1.47, 1.93, 4.19, 1.79, 3.75, 1.23, -0.45, 1.23, 1.55, -1.18, 1.79, 0.56, -11.63, 2.44, 5.23, -3.59, 1.82, -0.07, -0.35, -63.65, 11.33, 2.46, -2.32, 0.83, 2.41, 0.4, -4.93, -14.76, -0.21, 9.43, 0.31, -18.81, -0.41, 2.06, 1.87, -1.62, 75.18, 0.19, 2.73, -2.26, 1.32, -2.36, 2.58, 1.9, 1.1, 5.51, -5.72, -14.94, -5.24, 7.77, 4.07, -2.08, 7.59, 0.22, 1.55, -2.05, -0.84, 3.23, 2.23, -0.4, 9.97, -0.38, -5.89, 8.29, -5.33, -1.69, -6.33, -1.68, -0.29, -7.69, 2.43, 2.62, 0.07, -10.8, 0.26, -0.84, -2.24, 1.83, 0.21, 2.07, -0.48, 0.39, 0.02, 2.12, 0.27, -7.1, -11.28, 1.47, -3.82, 1.08, -74.44, 0.58, -3.3, 1.8, -0.13, 8.74, 0.92, 20.46, -0.5, 6.54, 1.43, 2.16]\n"
     ]
    }
   ],
   "source": [
    "logit_diff = logit_nat_new - logit\n",
    "temp=[]\n",
    "label = logit.data.max(1)[1]\n",
    "for i in range(200):\n",
    "    # temp.append(round(logit_diff[i][logit.data.max(1)[1][i].item()].item() / logit[i][logit.data.max(1)[1][i].item()].item() * 100, 2))\n",
    "    temp.append(round(logit_diff[i][label[i].item()].item() / logit[i][label[i].item()].item() * 100, 2))\n",
    "print(temp)"
   ]
  },
  {
   "cell_type": "code",
   "execution_count": 12,
   "metadata": {},
   "outputs": [
    {
     "name": "stdout",
     "output_type": "stream",
     "text": [
      "tensor(8, device='cuda:0')\n",
      "tensor([ -4.2184,  -5.2206, -13.7704, -14.5198, -14.9531, -11.3493, -16.8815,\n",
      "        -15.2519,  12.5187,  -5.5974], device='cuda:0',\n",
      "       grad_fn=<SelectBackward0>)\n"
     ]
    }
   ],
   "source": [
    "idx = 1\n",
    "print(target[idx])\n",
    "print(logit[idx])"
   ]
  },
  {
   "cell_type": "code",
   "execution_count": 13,
   "metadata": {},
   "outputs": [
    {
     "name": "stdout",
     "output_type": "stream",
     "text": [
      "tensor([ -3.7874,  -6.1135, -13.2801, -14.6573, -15.5637, -11.2632, -16.9037,\n",
      "        -14.7154,  12.5125,  -5.1013], device='cuda:0',\n",
      "       grad_fn=<SelectBackward0>)\n"
     ]
    }
   ],
   "source": [
    "print(logit_nat_new[idx])"
   ]
  },
  {
   "cell_type": "code",
   "execution_count": 14,
   "metadata": {},
   "outputs": [
    {
     "name": "stdout",
     "output_type": "stream",
     "text": [
      "tensor([ 14.6454,  -7.6334, -12.7084, -18.8223, -21.1263, -16.8193, -15.8491,\n",
      "         -9.8745, -10.7161, -12.5980], device='cuda:0',\n",
      "       grad_fn=<SelectBackward0>)\n",
      "tensor([ 13.9744,  -6.5202, -13.1916, -20.0648, -21.5021, -17.3619, -15.2067,\n",
      "         -9.2283, -10.3347, -11.3202], device='cuda:0',\n",
      "       grad_fn=<SelectBackward0>)\n"
     ]
    }
   ],
   "source": [
    "print(logit_adv[idx])\n",
    "print(logit_adv_new[idx])\n"
   ]
  },
  {
   "cell_type": "code",
   "execution_count": 35,
   "metadata": {},
   "outputs": [
    {
     "data": {
      "text/plain": [
       "torch.return_types.max(\n",
       "values=tensor([ 6.6484, 16.3670,  9.2583,  8.9384, 13.5887,  5.3610, 17.4120,  7.7241,\n",
       "        13.8551, 14.1609, 10.9950, 24.4618,  5.8903, 23.1151, 17.9990, 12.0400,\n",
       "        15.5626, 11.4088, 10.3357, 16.8526,  7.4911, 15.9793,  3.7088, 19.3503,\n",
       "        10.6145,  4.0728, 11.5412, 13.6083, 13.7420, 23.8032,  5.8181, 12.9534,\n",
       "        11.9304,  4.4098, 20.6128,  2.0085, 13.2373,  7.8153, 17.3060, 13.5526,\n",
       "        12.9329, 16.3520, 18.7226, 16.1867,  9.7710, 14.0004, 12.4873,  2.1354,\n",
       "        16.0314, 19.5331, 13.3210, 10.7148,  4.3840, 11.4763, 23.9780, 19.3649,\n",
       "         7.5021,  4.6164,  6.7759,  5.3750, 21.0769,  6.6727,  7.0914,  8.0792,\n",
       "        19.5412, 11.8959, 10.7430, 14.4537,  8.7876,  3.4617,  1.5767,  6.6984,\n",
       "        18.2462, 18.9652,  3.9671, 18.1006,  5.8063,  7.6863,  8.9836, 19.5640,\n",
       "        19.4270,  9.1915, 25.8421,  5.8348, 12.6548,  8.3297,  0.8794,  4.8260,\n",
       "        19.5725, 23.2648, 17.0319,  9.9516, 15.3509, 16.9033, 10.8432,  0.9966,\n",
       "        15.9316, 11.9372, 19.4549, 19.5440, 12.0839,  6.7005, 11.1267, 12.3455,\n",
       "        27.9787, 26.7155,  2.1080, 23.2633, 12.4906, 19.2271,  4.9591, 12.2518,\n",
       "         3.2627, 13.5786, 12.6372,  7.8380, 19.4406,  3.8649,  2.8239,  4.6027,\n",
       "         9.6224,  2.9947, 21.4101, 22.8722, 13.9215,  1.5692,  9.1596,  8.5053,\n",
       "         6.7842,  2.4505, 16.3215, 16.7089, 17.5996, 21.0978,  9.7516,  5.9566,\n",
       "        20.0955, 13.1569, 15.4666,  5.9108,  9.3401, 18.4197, 13.8452,  9.4819,\n",
       "         8.8260,  1.1026, 14.0530,  1.5714,  1.8883, 10.0580,  6.0308, 11.5832,\n",
       "        11.9947,  1.6697, 10.8580,  5.9675, 12.3959, 19.0902,  3.9821, 17.5232,\n",
       "         9.3580, 13.5774,  0.3280, 12.5947,  9.8139, 14.1914, 10.6121,  4.4985,\n",
       "         4.1105,  1.2095, 11.4986,  3.8539,  5.9489, 12.9555, 11.9781, 20.7628,\n",
       "        13.9013, 11.1917,  9.6842, 18.0632,  6.1287, 12.2881, 15.8226,  7.9912,\n",
       "         3.9583, 30.3472,  7.0288,  8.4491,  3.0650,  7.2940,  6.2271,  4.5270,\n",
       "        14.4096,  7.3108, 15.7369,  4.4034, 15.1620, 11.9674, 16.4363,  3.3836],\n",
       "       device='cuda:0', grad_fn=<MaxBackward0>),\n",
       "indices=tensor([3, 8, 8, 0, 4, 6, 1, 6, 3, 1, 0, 9, 3, 7, 9, 8, 5, 7, 8, 6, 7, 0, 0, 9,\n",
       "        5, 2, 4, 0, 9, 6, 3, 5, 4, 5, 9, 1, 4, 9, 9, 5, 4, 6, 5, 6, 0, 9, 3, 9,\n",
       "        7, 6, 9, 8, 3, 3, 8, 8, 7, 5, 3, 6, 7, 3, 6, 9, 6, 2, 1, 2, 3, 7, 2, 6,\n",
       "        8, 8, 0, 2, 0, 3, 3, 8, 8, 1, 1, 7, 2, 7, 9, 3, 8, 9, 0, 3, 8, 6, 4, 5,\n",
       "        6, 0, 0, 7, 4, 5, 6, 3, 1, 1, 5, 6, 8, 7, 4, 0, 2, 2, 1, 3, 0, 4, 6, 7,\n",
       "        8, 3, 1, 2, 8, 8, 0, 3, 3, 0, 4, 1, 8, 9, 1, 2, 9, 7, 2, 8, 6, 5, 6, 3,\n",
       "        8, 4, 6, 2, 5, 2, 8, 9, 6, 3, 0, 5, 2, 9, 5, 4, 2, 1, 3, 6, 0, 2, 8, 4,\n",
       "        5, 0, 9, 0, 9, 8, 9, 9, 3, 7, 5, 0, 0, 5, 2, 2, 0, 8, 6, 3, 6, 0, 5, 8,\n",
       "        0, 1, 7, 4, 8, 8, 7, 8], device='cuda:0'))"
      ]
     },
     "execution_count": 35,
     "metadata": {},
     "output_type": "execute_result"
    }
   ],
   "source": [
    "logit_nat_new.max(1)"
   ]
  },
  {
   "cell_type": "code",
   "execution_count": 17,
   "metadata": {},
   "outputs": [
    {
     "data": {
      "image/png": "[encoded data removed]",
      "text/plain": [
       "<Figure size 432x288 with 1 Axes>"
      ]
     },
     "metadata": {
      "needs_background": "light"
     },
     "output_type": "display_data"
    }
   ],
   "source": [
    "idex = 23\n",
    "show_image(x, idx=idex)"
   ]
  },
  {
   "cell_type": "code",
   "execution_count": 18,
   "metadata": {},
   "outputs": [
    {
     "data": {
      "image/png": "[encoded data removed]",
      "text/plain": [
       "<Figure size 432x288 with 1 Axes>"
      ]
     },
     "metadata": {
      "needs_background": "light"
     },
     "output_type": "display_data"
    }
   ],
   "source": [
    "show_image(x_hat, idx=idex)"
   ]
  },
  {
   "cell_type": "code",
   "execution_count": 19,
   "metadata": {},
   "outputs": [
    {
     "data": {
      "image/png": "[encoded data removed]",
      "text/plain": [
       "<Figure size 432x288 with 1 Axes>"
      ]
     },
     "metadata": {
      "needs_background": "light"
     },
     "output_type": "display_data"
    }
   ],
   "source": [
    "show_image(x_adv, idx=idex)"
   ]
  },
  {
   "cell_type": "code",
   "execution_count": 20,
   "metadata": {},
   "outputs": [
    {
     "data": {
      "image/png": "[encoded data removed]",
      "text/plain": [
       "<Figure size 432x288 with 1 Axes>"
      ]
     },
     "metadata": {
      "needs_background": "light"
     },
     "output_type": "display_data"
    }
   ],
   "source": [
    "show_image(x_hat_adv, idx=idex)"
   ]
  },
  {
   "cell_type": "code",
   "execution_count": 21,
   "metadata": {},
   "outputs": [
    {
     "data": {
      "image/png": "[encoded data removed]",
      "text/plain": [
       "<Figure size 432x288 with 1 Axes>"
      ]
     },
     "metadata": {
      "needs_background": "light"
     },
     "output_type": "display_data"
    }
   ],
   "source": [
    "show_image(x_hat_new, idx=idex)"
   ]
  },
  {
   "cell_type": "code",
   "execution_count": 3,
   "metadata": {},
   "outputs": [
    {
     "name": "stdout",
     "output_type": "stream",
     "text": [
      "testing mode\n"
     ]
    }
   ],
   "source": [
    "vae_model = wide_VAE(zDim=256).to(device)\n",
    "vae_optimizer = optim.Adam(vae_model.parameters(), lr=0.001)\n",
    "c_model = classifier().to(device)\n",
    "c_optimizer = optim.Adam(c_model.parameters(), lr=0.01)\n",
    "print('testing mode')\n",
    "model_dir = './model-checkpoint'\n",
    "test_num = 90\n",
    "vae_model_path = '{}/cifar-vae-model-{}.pt'.format(model_dir, test_num)\n",
    "c_model_path = '{}/cifar-c-model-{}.pt'.format(model_dir, test_num)\n",
    "vae_model.load_state_dict(torch.load(vae_model_path))\n",
    "c_model.load_state_dict(torch.load(c_model_path))\n",
    "c_model.eval()\n",
    "vae_model.eval()\n",
    "for data, target in test_loader:\n",
    "    data, target = data.to(device), target.to(device)\n",
    "    data = Variable(data.data, requires_grad=True)\n",
    "    # logit = model_pred(data, vae_model, c_model)\n",
    "    # err_num += (logit.data.max(1)[1] != target.data).float().sum()\n",
    "    # x_adv = pgd(vae_model, c_model, data, target, 20, 0.03, 0.003)\n",
    "    # x_ = testtime_update(vae_model, x_adv ,learning_rate=0.15, num=100)\n",
    "    _,_,_,x_ = vae_model(data)\n",
    "    logit = c_model(x_.view(-1,160,8,8))\n",
    "    break"
   ]
  }
 ],
 "metadata": {
  "interpreter": {
   "hash": "60f3562df18e56d69cac921e4ec80aacc06b2c12e8dcb1e1fa8771458e773d18"
  },
  "kernelspec": {
   "display_name": "Python 3.6.13 ('trades')",
   "language": "python",
   "name": "python3"
  },
  "language_info": {
   "codemirror_mode": {
    "name": "ipython",
    "version": 3
   },
   "file_extension": ".py",
   "mimetype": "text/x-python",
   "name": "python",
   "nbconvert_exporter": "python",
   "pygments_lexer": "ipython3",
   "version": "3.7.11"
  },
  "orig_nbformat": 4
 },
 "nbformat": 4,
 "nbformat_minor": 2
}
