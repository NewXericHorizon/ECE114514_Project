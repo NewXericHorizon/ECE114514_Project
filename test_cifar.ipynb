{
 "cells": [
  {
   "cell_type": "code",
   "execution_count": 1,
   "metadata": {},
   "outputs": [
    {
     "name": "stdout",
     "output_type": "stream",
     "text": [
      "Files already downloaded and verified\n",
      "Files already downloaded and verified\n"
     ]
    }
   ],
   "source": [
    "import torch\n",
    "import torchvision\n",
    "import torch.nn as nn\n",
    "from torch.autograd import Variable\n",
    "from torchvision import datasets, transforms\n",
    "from model.wideVAE import *\n",
    "from blackbox_pgd_model.wideresnet_update import *\n",
    "from pgd_attack import *\n",
    "import torch.optim as optim\n",
    "import numpy as np\n",
    "from util import *\n",
    "import os\n",
    "os.environ['CUDA_LAUNCH_BLOCKING'] = \"1\"\n",
    "os.environ['CUDA_VISIBLE_DEVICES'] = \"1\"\n",
    "# parser = argparse.ArgumentParser(description='PyTorch CIFAR10 VAE Training')\n",
    "# parser.add_argument('--batch-size', type=int, default=200, metavar='N',\n",
    "#                     help='input batch size for training (default: 128)')\n",
    "# parser.add_argument('--test-batch-size', type=int, default=200, metavar='N',\n",
    "#                     help='input batch size for testing (default: 128)')\n",
    "# parser.add_argument('--x-dim', type=int, default=784)\n",
    "# parser.add_argument('--hidden-dim', type=int, default=400)\n",
    "# parser.add_argument('--latent-dim', type=int, default=200)\n",
    "# parser.add_argument('--epochs', type=int, default=30)\n",
    "# args = parser.parse_args()\n",
    "torch.manual_seed(1)\n",
    "torch.cuda.manual_seed(1)\n",
    "torch.backends.cudnn.benchmark = False\n",
    "torch.backends.cudnn.deterministic = True\n",
    "use_cuda = torch.cuda.is_available()\n",
    "device = torch.device(\"cuda\" if use_cuda else \"cpu\")\n",
    "kwargs = {'num_workers': 1, 'pin_memory': True} if use_cuda else {}\n",
    "transform_train = transforms.Compose([\n",
    "    transforms.RandomCrop(32, padding=4),\n",
    "    transforms.RandomHorizontalFlip(),\n",
    "    transforms.ToTensor(),\n",
    "])\n",
    "transform_test = transforms.Compose([\n",
    "    transforms.ToTensor(),\n",
    "])\n",
    "batch_size = 200\n",
    "test_batch_size = 200\n",
    "beta = 0.5\n",
    "trainset = torchvision.datasets.CIFAR10(root='../data', train=True, download=True, transform=transform_train)\n",
    "train_loader = torch.utils.data.DataLoader(trainset, batch_size=batch_size, shuffle=True, **kwargs)\n",
    "testset = torchvision.datasets.CIFAR10(root='../data', train=False, download=True, transform=transform_test)\n",
    "test_loader = torch.utils.data.DataLoader(testset, batch_size=test_batch_size, shuffle=False, **kwargs)\n",
    "\n",
    "def train(vae_model, c_model, data_loader, vae_optimizer, c_optimizer, epoch_num):\n",
    "    vae_model.train()\n",
    "    c_model.train()\n",
    "    v_loss_sum = 0\n",
    "    c_loss_sum = 0\n",
    "    for batch_idx, (data, target) in enumerate(data_loader):\n",
    "        #data = data.view(batch_size, x_dim)\n",
    "        data, target = data.to(device), target.to(device)\n",
    "        vae_optimizer.zero_grad()\n",
    "        c_optimizer.zero_grad()\n",
    "        x_hat, mean, log_v, x_ = vae_model(data)\n",
    "        # x_cat = torch.cat((mean, log_v),1)\n",
    "        logit = c_model(x_.detach().view(-1,160,8,8))\n",
    "        #logit = c_model(x_cat)\n",
    "        v_loss, c_loss = loss_function_mean(data, target, x_hat, mean, log_v, logit)\n",
    "        #print(loss)\n",
    "        v_loss_sum += v_loss\n",
    "        c_loss_sum += c_loss\n",
    "        # if epoch_num % 2 == 1:\n",
    "        if epoch_num <= 30:\n",
    "            v_loss.backward()\n",
    "            vae_optimizer.step()\n",
    "            c_loss.backward()\n",
    "        else:\n",
    "            c_loss.backward()\n",
    "            c_optimizer.step()\n",
    "            v_loss.backward()\n",
    "    return v_loss_sum, c_loss_sum\n",
    "\n",
    "def eval_train(vae_model, c_model):\n",
    "    vae_model.eval()\n",
    "    c_model.eval()\n",
    "    err_num = 0\n",
    "    with torch.no_grad():\n",
    "        for data, target in train_loader:\n",
    "            data, target = data.to(device), target.to(device)\n",
    "            x_hat, mean, log_v, x_ = vae_model(data)\n",
    "            logit = c_model(x_.detach().view(-1,160,8,8))\n",
    "            err_num += (logit.data.max(1)[1] != target.data).float().sum()\n",
    "    print('train error num:{}'.format(err_num))\n",
    "def eval_test(vae_model, c_model):\n",
    "    vae_model.eval()\n",
    "    c_model.eval()\n",
    "    err_num = 0\n",
    "    with torch.no_grad():\n",
    "        for data, target in test_loader:\n",
    "            data, target = data.to(device), target.to(device)\n",
    "            x_hat, mean, log_v, x_ = vae_model(data)\n",
    "            logit = c_model(x_.detach().view(-1,160,8,8))\n",
    "            err_num += (logit.data.max(1)[1] != target.data).float().sum()\n",
    "    print('test error num:{}'.format(err_num))\n"
   ]
  },
  {
   "cell_type": "code",
   "execution_count": 2,
   "metadata": {},
   "outputs": [],
   "source": [
    "def testtime_update(vae_model, c_model, x_adv, target, learning_rate=0.1, num = 30, mode = 'mean', channel = 0):\n",
    "    x_adv = x_adv.detach()\n",
    "    x_hat_adv, mean, log_v, x_ = vae_model(x_adv)\n",
    "    for _ in range(num):\n",
    "        if (x_hat_adv != x_hat_adv).sum() > 0:\n",
    "            print('nan Error')\n",
    "            exit()\n",
    "        if mode == 'mean':\n",
    "            loss = nn.functional.binary_cross_entropy(x_hat_adv, x_adv, size_average=False, reduction='mean')\n",
    "            # loss = vae_loss_mean(x_adv, x_hat_adv, mean, log_v)\n",
    "        else:\n",
    "            loss = nn.functional.binary_cross_entropy(x_hat_adv, x_adv, reduction='sum')\n",
    "            # loss = vae_loss_sum(x_adv, x_hat_adv, mean, log_v)\n",
    "        x_.retain_grad()\n",
    "        loss.backward(retain_graph=True)\n",
    "        with torch.no_grad():\n",
    "            x_.data -= learning_rate * x_.grad.data\n",
    "        x_.grad.data.zero_()\n",
    "        x_hat_adv = vae_model.re_forward(x_)\n",
    "    logit_adv = c_model(x_.view(-1,channel,8,8))\n",
    "        # print((logit_adv.data.max(1)[1] != target.data).float().sum())\n",
    "    return logit_adv\n",
    "    \n",
    "def testtime_update_cifar_opt(vae_model, c_model, x_adv, target, learning_rate=0.1, num = 30, mode = 'mean', channel=128, opti = 'adam'):\n",
    "    x_adv = x_adv.detach()\n",
    "    x_hat_adv, _, _, x_ = vae_model(x_adv)\n",
    "    x_copy = x_.detach().clone()\n",
    "    if opti == 'adam':\n",
    "        opt = optim.Adam([x_copy], lr=learning_rate)\n",
    "    elif opti == 'sgd':\n",
    "        opt = optim.SGD([x_copy], lr=learning_rate, momentum=0.9)\n",
    "    for _ in range(num):\n",
    "        # opt.zero_grad()\n",
    "        if mode == 'mean':\n",
    "            loss = nn.functional.binary_cross_entropy(x_hat_adv, x_adv, size_average=False, reduction='mean')\n",
    "        else:\n",
    "            loss = nn.functional.binary_cross_entropy(x_hat_adv, x_adv, reduction='sum')\n",
    "        x_.retain_grad()\n",
    "        loss.backward(retain_graph=True)\n",
    "        grad = torch.autograd.grad(loss, x_)\n",
    "        # exit()\n",
    "        with torch.no_grad():\n",
    "            x_copy.grad = grad[0]\n",
    "        # with torch.no_grad():\n",
    "        #     x_.data -= learning_rate * x_.grad.data\n",
    "        x_.grad.data.zero_()\n",
    "        opt.step()\n",
    "        x_ = x_copy.detach().clone()\n",
    "        x_.requires_grad = True\n",
    "        x_hat_adv = vae_model.re_forward(x_)\n",
    "    logit_adv = c_model(x_.view(-1,channel,8,8))\n",
    "    return logit_adv, x_hat_adv\n"
   ]
  },
  {
   "cell_type": "code",
   "execution_count": 3,
   "metadata": {},
   "outputs": [],
   "source": [
    "def test(vae_model, c_model, source_model, channel=128, lr=0.01, num=50):\n",
    "    err_num = 0\n",
    "    err_adv = 0\n",
    "    err_nat = 0\n",
    "    c_model.eval()\n",
    "    vae_model.eval()\n",
    "    f = True\n",
    "    for data, target in test_loader:\n",
    "        data, target = data.to(device), target.to(device)\n",
    "        data = Variable(data.data, requires_grad=True)\n",
    "        _,_,_,x_ = vae_model(data)\n",
    "        logit = c_model(x_.view(-1,channel,8,8))\n",
    "        err_nat += (logit.data.max(1)[1] != target.data).float().sum()\n",
    "        logit_new, data_new = testtime_update_cifar_opt(vae_model, c_model, data, target,learning_rate=lr, num=num, channel=channel, opti='adam')\n",
    "        # logit_new = testtime_update_cifar(vae_model, c_model, data, target,learning_rate=0.1, num=100, channel=channel)\n",
    "        # label = logit_calculate(logit, logit_new).to(device)\n",
    "        # err_num += (label.data != target.data).float().sum()\n",
    "        x_adv = pgd_cifar(vae_model, c_model, data, target, 20, 0.03, 0.003, channel=channel)\n",
    "        # x_adv = pgd_cifar_blackbox(vae_model, c_model, source_model, data, target, 20, 0.03, 0.003)\n",
    "        _,_,_,x_ = vae_model(x_adv)\n",
    "        logit_adv = c_model(x_.view(-1,channel,8,8))\n",
    "        logit_adv_new, data_adv_new = testtime_update_cifar_opt(vae_model, c_model, x_adv, target,learning_rate=lr, num=num, channel=channel, opti='adam')\n",
    "        # logit_adv_new = testtime_update_cifar(vae_model, c_model, x_adv, target,learning_rate=0.1, num=100, channel=channel)\n",
    "        if f:\n",
    "            return logit, logit_adv, logit_new, logit_adv_new, target, data, data_new, x_adv, data_adv_new\n",
    "        # label_adv = logit_calculate(logit_adv, logit_adv_new).to(device)\n",
    "        # logit_adv = diff_update_cifar(vae_model,c_model, x_adv, target,learning_rate=0.05, num=100)\n",
    "        # _,_,_,x_ = vae_model(x_adv)\n",
    "        # logit_adv = c_model(x_.view(-1,160,8,8))\n",
    "        # err_adv += (label_adv.data != target.data).float().sum()\n",
    "        # err_adv += (logit_adv.data.max(1)[1] != target.data).float().sum()\n",
    "    print(len(test_loader.dataset))\n",
    "    print(err_nat)\n",
    "    print(err_num)\n",
    "    print(err_adv)"
   ]
  },
  {
   "cell_type": "code",
   "execution_count": 4,
   "metadata": {},
   "outputs": [
    {
     "data": {
      "text/plain": [
       "<All keys matched successfully>"
      ]
     },
     "execution_count": 4,
     "metadata": {},
     "output_type": "execute_result"
    }
   ],
   "source": [
    "source_model = WideResNet().to(device)\n",
    "# source_model_path = './blackbox_pgd_model/model-wideres-epoch76.pt'\n",
    "vae_model = wide_VAE(zDim=256, channel=[16,80,160]).to(device)\n",
    "c_model = classifier(input_dim = 160).to(device)\n",
    "vae_model_path = './model-checkpoint/cifar-vae-model-130.pt'\n",
    "c_model_path = './model-checkpoint/cifar-c-model-130.pt'\n",
    "# source_model.load_state_dict(torch.load(source_model_path))\n",
    "vae_model.load_state_dict(torch.load(vae_model_path))\n",
    "c_model.load_state_dict(torch.load(c_model_path))"
   ]
  },
  {
   "cell_type": "code",
   "execution_count": 5,
   "metadata": {},
   "outputs": [],
   "source": [
    "import matplotlib.pyplot as plt\n",
    "def show_image(x, idx):\n",
    "    x = x.view(test_batch_size,3, 32, 32)\n",
    "    # x = x.detach().cpu().numpy()\n",
    "    # x = x.transpose(0,2,3,1).astype(\"uint8\")\n",
    "    fig = plt.figure()\n",
    "    plt.imshow(transforms.ToPILImage()(x[idx]))"
   ]
  },
  {
   "cell_type": "code",
   "execution_count": 6,
   "metadata": {},
   "outputs": [
    {
     "name": "stderr",
     "output_type": "stream",
     "text": [
      "/home/hao/anaconda3/envs/test/lib/python3.7/site-packages/torch/nn/_reduction.py:42: UserWarning: size_average and reduce args will be deprecated, please use reduction='sum' instead.\n",
      "  warnings.warn(warning.format(ret))\n"
     ]
    }
   ],
   "source": [
    "logit, logit_adv,logit_nat_new, logit_adv_new, target,x,x_new,x_adv,x_adv_new = test(vae_model, c_model, source_model, channel=160, lr=0.01, num=100)"
   ]
  },
  {
   "cell_type": "code",
   "execution_count": 16,
   "metadata": {},
   "outputs": [
    {
     "name": "stdout",
     "output_type": "stream",
     "text": [
      "tensor(47, device='cuda:0')\n",
      "tensor(61, device='cuda:0')\n",
      "[0, 1, 2, 5, 6, 8, 10, 11, 12, 13, 14, 15, 16, 17, 18, 19, 20, 22, 25, 26, 29, 31, 34, 38, 39, 40, 41, 43, 44, 45, 46, 47, 48, 49, 50, 53, 54, 55, 60, 62, 64, 66, 67, 68, 69, 70, 72, 73, 74, 75, 78, 79, 80, 81, 82, 83, 84, 86, 88, 89, 90, 91, 92, 93, 97, 98, 99, 100, 101, 102, 103, 104, 105, 106, 108, 109, 111, 112, 113, 114, 116, 117, 120, 121, 122, 123, 124, 126, 128, 130, 131, 132, 133, 134, 135, 136, 137, 138, 140, 141, 142, 143, 144, 145, 146, 147, 149, 150, 152, 153, 154, 155, 156, 159, 160, 161, 163, 166, 167, 168, 170, 171, 172, 173, 174, 175, 176, 177, 178, 179, 180, 183, 185, 189, 192, 193, 196, 197, 199]\n"
     ]
    }
   ],
   "source": [
    "label = logit_calculate(logit_adv, logit_adv_new)\n",
    "label = logit_calculate(logit, logit_nat_new)\n",
    "label = label.to(device)\n",
    "print((logit.data.max(1)[1]!=target).sum())\n",
    "print((label!=target).sum())\n",
    "print([i for i in range(200) if label[i]==target[i]])\n"
   ]
  },
  {
   "cell_type": "code",
   "execution_count": 17,
   "metadata": {},
   "outputs": [
    {
     "name": "stdout",
     "output_type": "stream",
     "text": [
      "tensor(3, device='cuda:0')\n",
      "tensor([-16.0441, -27.8602,  -6.8359,   9.0967,  -4.5839,   4.7126,  -7.2971,\n",
      "         -4.4091, -19.8075, -21.0435], device='cuda:0',\n",
      "       grad_fn=<SelectBackward0>)\n",
      "tensor([-16.2702, -27.0448,  -8.5208,  10.1232,  -5.7547,   5.6444,  -6.4167,\n",
      "         -6.5775, -19.0267, -21.3731], device='cuda:0',\n",
      "       grad_fn=<SelectBackward0>)\n"
     ]
    }
   ],
   "source": [
    "idx = 8\n",
    "print(target[idx])\n",
    "print(logit[idx])\n",
    "print(logit_nat_new[idx])"
   ]
  },
  {
   "cell_type": "code",
   "execution_count": 18,
   "metadata": {},
   "outputs": [
    {
     "name": "stdout",
     "output_type": "stream",
     "text": [
      "tensor([-17.9364, -30.8385, -13.4672, -15.2182,  -6.3930,  20.7361, -16.4977,\n",
      "         -3.2305, -23.0266, -29.4904], device='cuda:0',\n",
      "       grad_fn=<SelectBackward0>)\n",
      "tensor([-16.4618, -28.0625, -12.7587,  -7.7066,  -6.6621,  18.3913, -14.4558,\n",
      "         -6.4320, -20.7951, -26.8548], device='cuda:0',\n",
      "       grad_fn=<SelectBackward0>)\n"
     ]
    }
   ],
   "source": [
    "print(logit_adv[idx])\n",
    "print(logit_adv_new[idx])"
   ]
  },
  {
   "cell_type": "code",
   "execution_count": 24,
   "metadata": {},
   "outputs": [],
   "source": [
    "x_hat,_,_,x_ = vae_model(x)"
   ]
  },
  {
   "cell_type": "code",
   "execution_count": 39,
   "metadata": {},
   "outputs": [
    {
     "data": {
      "image/png": "[encoded data removed]",
      "text/plain": [
       "<Figure size 432x288 with 1 Axes>"
      ]
     },
     "metadata": {
      "needs_background": "light"
     },
     "output_type": "display_data"
    }
   ],
   "source": [
    "idex = 4\n",
    "show_image(x, idx=idex)"
   ]
  },
  {
   "cell_type": "code",
   "execution_count": 40,
   "metadata": {},
   "outputs": [
    {
     "data": {
      "image/png": "[encoded data removed]",
      "text/plain": [
       "<Figure size 432x288 with 1 Axes>"
      ]
     },
     "metadata": {
      "needs_background": "light"
     },
     "output_type": "display_data"
    }
   ],
   "source": [
    "show_image(x_hat, idx=idex)"
   ]
  },
  {
   "cell_type": "code",
   "execution_count": 41,
   "metadata": {},
   "outputs": [
    {
     "data": {
      "image/png": "[encoded data removed]",
      "text/plain": [
       "<Figure size 432x288 with 1 Axes>"
      ]
     },
     "metadata": {
      "needs_background": "light"
     },
     "output_type": "display_data"
    }
   ],
   "source": [
    "show_image(x_new, idx=idex)"
   ]
  },
  {
   "cell_type": "code",
   "execution_count": 42,
   "metadata": {},
   "outputs": [
    {
     "data": {
      "image/png": "[encoded data removed]",
      "text/plain": [
       "<Figure size 432x288 with 1 Axes>"
      ]
     },
     "metadata": {
      "needs_background": "light"
     },
     "output_type": "display_data"
    }
   ],
   "source": [
    "show_image(x_adv, idx=idex)"
   ]
  },
  {
   "cell_type": "code",
   "execution_count": 43,
   "metadata": {},
   "outputs": [
    {
     "data": {
      "image/png": "[encoded data removed]",
      "text/plain": [
       "<Figure size 432x288 with 1 Axes>"
      ]
     },
     "metadata": {
      "needs_background": "light"
     },
     "output_type": "display_data"
    }
   ],
   "source": [
    "show_image(x_adv_new, idx=idex)"
   ]
  },
  {
   "cell_type": "code",
   "execution_count": 3,
   "metadata": {},
   "outputs": [
    {
     "name": "stdout",
     "output_type": "stream",
     "text": [
      "testing mode\n"
     ]
    }
   ],
   "source": [
    "vae_model = wide_VAE(zDim=256).to(device)\n",
    "vae_optimizer = optim.Adam(vae_model.parameters(), lr=0.001)\n",
    "c_model = classifier().to(device)\n",
    "c_optimizer = optim.Adam(c_model.parameters(), lr=0.01)\n",
    "print('testing mode')\n",
    "model_dir = './model-checkpoint'\n",
    "test_num = 90\n",
    "vae_model_path = '{}/cifar-vae-model-{}.pt'.format(model_dir, test_num)\n",
    "c_model_path = '{}/cifar-c-model-{}.pt'.format(model_dir, test_num)\n",
    "vae_model.load_state_dict(torch.load(vae_model_path))\n",
    "c_model.load_state_dict(torch.load(c_model_path))\n",
    "c_model.eval()\n",
    "vae_model.eval()\n",
    "for data, target in test_loader:\n",
    "    data, target = data.to(device), target.to(device)\n",
    "    data = Variable(data.data, requires_grad=True)\n",
    "    # logit = model_pred(data, vae_model, c_model)\n",
    "    # err_num += (logit.data.max(1)[1] != target.data).float().sum()\n",
    "    # x_adv = pgd(vae_model, c_model, data, target, 20, 0.03, 0.003)\n",
    "    # x_ = testtime_update(vae_model, x_adv ,learning_rate=0.15, num=100)\n",
    "    _,_,_,x_ = vae_model(data)\n",
    "    logit = c_model(x_.view(-1,160,8,8))\n",
    "    break"
   ]
  }
 ],
 "metadata": {
  "interpreter": {
   "hash": "00ca607cfbf8999ac685dca5ed489f11e8f7657d7eb18b4846f72ffe0c959b03"
  },
  "kernelspec": {
   "display_name": "Python 3.7.11 ('test': conda)",
   "language": "python",
   "name": "python3"
  },
  "language_info": {
   "codemirror_mode": {
    "name": "ipython",
    "version": 3
   },
   "file_extension": ".py",
   "mimetype": "text/x-python",
   "name": "python",
   "nbconvert_exporter": "python",
   "pygments_lexer": "ipython3",
   "version": "3.7.11"
  },
  "orig_nbformat": 4
 },
 "nbformat": 4,
 "nbformat_minor": 2
}
