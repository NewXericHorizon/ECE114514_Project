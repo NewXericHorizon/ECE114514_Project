{
 "cells": [
  {
   "cell_type": "code",
   "execution_count": 1,
   "metadata": {},
   "outputs": [],
   "source": [
    "import torch\n",
    "import torchvision\n",
    "import torch.nn as nn\n",
    "from torch.autograd import Variable\n",
    "from torchvision import datasets, transforms\n",
    "from model.VAE_update import *\n",
    "from blackbox_pgd_model.wideresnet_update import *\n",
    "from pgd_attack import *\n",
    "import torch.optim as optim\n",
    "import numpy as np\n",
    "from util import *\n",
    "import os\n",
    "os.environ['CUDA_VISIBLE_DEVICES'] = \"1\"\n",
    "\n",
    "# parser = argparse.ArgumentParser(description='PyTorch CIFAR10 VAE Training')\n",
    "# parser.add_argument('--batch-size', type=int, default=200, metavar='N',\n",
    "#                     help='input batch size for training (default: 128)')\n",
    "# parser.add_argument('--test-batch-size', type=int, default=200, metavar='N',\n",
    "#                     help='input batch size for testing (default: 128)')\n",
    "# parser.add_argument('--x-dim', type=int, default=784)\n",
    "# parser.add_argument('--hidden-dim', type=int, default=400)\n",
    "# parser.add_argument('--latent-dim', type=int, default=200)\n",
    "# parser.add_argument('--epochs', type=int, default=30)\n",
    "# args = parser.parse_args()\n",
    "torch.manual_seed(1)\n",
    "torch.cuda.manual_seed(1)\n",
    "torch.backends.cudnn.benchmark = False\n",
    "torch.backends.cudnn.deterministic = True\n",
    "use_cuda = torch.cuda.is_available()\n",
    "device = torch.device(\"cuda\" if use_cuda else \"cpu\")\n",
    "kwargs = {'num_workers': 1, 'pin_memory': True} if use_cuda else {}\n",
    "\n",
    "transform_test = transforms.Compose([\n",
    "    transforms.ToTensor(),\n",
    "])\n",
    "batch_size = 200\n",
    "test_batch_size = 200\n",
    "beta = 0.5\n",
    "trainset = torchvision.datasets.MNIST(root='../data', train=True, download=True, transform=transform_test)\n",
    "train_loader = torch.utils.data.DataLoader(trainset, batch_size=batch_size, shuffle=True, **kwargs)\n",
    "testset = torchvision.datasets.MNIST(root='../data', train=False, download=True, transform=transform_test)\n",
    "test_loader = torch.utils.data.DataLoader(testset, batch_size=test_batch_size, shuffle=False, **kwargs)\n"
   ]
  },
  {
   "cell_type": "code",
   "execution_count": 19,
   "metadata": {},
   "outputs": [],
   "source": [
    "def test(vae_model, c_model, channel):\n",
    "    err_num = 0\n",
    "    err_adv = 0\n",
    "    err_nat = 0\n",
    "    c_model.eval()\n",
    "    vae_model.eval()\n",
    "    for data, target in test_loader:\n",
    "        data, target = data.to(device), target.to(device)\n",
    "        data = Variable(data.data, requires_grad=True)\n",
    "        _,_,_,x_ = vae_model(data)\n",
    "        logit = c_model(x_.view(-1,channel,7,7))\n",
    "        err_nat += (logit.data.max(1)[1]!=target.data).float().sum()\n",
    "        # logit_new = testtime_update_mnist_new(vae_model, c_model, data, target,learning_rate=0.05, num=50, mode = 'sum', channel=channel)\n",
    "        logit_new = testtime_update_mnist_new_opt(vae_model, c_model, data, target,learning_rate=0.1, num=1, mode = 'mean', channel=channel,opti='adam')\n",
    "        label = logit_calculate(logit, logit_new).to(device)\n",
    "        err_num += (label.data != target.data).float().sum()\n",
    "\n",
    "        x_adv = pgd_mnist_new(vae_model, c_model, data, target, 40, 0.3, 0.01,channel)\n",
    "        _,_,_,x_ = vae_model(x_adv)\n",
    "        logit_adv = c_model(x_.view(-1,channel,7,7))\n",
    "        # logit_adv_new = testtime_update_mnist_new(vae_model, c_model, x_adv, target,learning_rate=0.05, num=50, mode = 'sum', channel=channel)\n",
    "        logit_adv_new = testtime_update_mnist_new_opt(vae_model, c_model, x_adv, target,learning_rate=0.1, num=1, mode = 'mean', channel=channel,opti='adam')\n",
    "        label_adv = logit_calculate(logit_adv, logit_adv_new).to(device)\n",
    "        # logit_adv = diff_update_mnist(vae_model,c_model, x_adv,target,learning_rate=0.05, num=10, mode = 'sum')\n",
    "        err_adv += (label_adv.data != target.data).float().sum()\n",
    "        return logit, logit_adv, logit_new, logit_adv_new, target\n",
    "        # err_adv += (logit_adv.data.max(1)[1] != target.data).float().sum()\n",
    "    print(len(test_loader.dataset))\n",
    "    print(err_nat)\n",
    "    print(err_num)\n",
    "    print(err_adv)"
   ]
  },
  {
   "cell_type": "code",
   "execution_count": 3,
   "metadata": {},
   "outputs": [
    {
     "data": {
      "text/plain": [
       "<All keys matched successfully>"
      ]
     },
     "execution_count": 3,
     "metadata": {},
     "output_type": "execute_result"
    }
   ],
   "source": [
    "channel = [16,60,120]\n",
    "vae_model = VAE(zDim=32, channel=channel).to(device)\n",
    "c_model = classifier(input_dim=channel[2]).to(device)\n",
    "vae_model_path = './model-checkpoint/mnist-new-vae-model-65.pt'\n",
    "c_model_path = './model-checkpoint/mnist-new-c-model-65.pt'\n",
    "vae_model.load_state_dict(torch.load(vae_model_path))\n",
    "c_model.load_state_dict(torch.load(c_model_path))\n"
   ]
  },
  {
   "cell_type": "code",
   "execution_count": 20,
   "metadata": {},
   "outputs": [],
   "source": [
    "logit, logit_adv,logit_nat_new, logit_adv_new, target = test(vae_model, c_model, channel=channel[2])"
   ]
  },
  {
   "cell_type": "code",
   "execution_count": 22,
   "metadata": {},
   "outputs": [
    {
     "name": "stdout",
     "output_type": "stream",
     "text": [
      "tensor(1, device='cuda:0')\n",
      "tensor(39, device='cuda:0')\n",
      "[0, 2, 4, 6, 12, 15, 16, 18, 29, 31, 36, 41, 42, 43, 46, 48, 58, 62, 63, 66, 95, 96, 99, 104, 110, 115, 116, 121, 122, 139, 143, 160, 163, 174, 176, 185, 187, 191, 193]\n"
     ]
    }
   ],
   "source": [
    "# label = logit_calculate(logit_adv, logit_adv_new)\n",
    "label = logit_calculate(logit, logit_nat_new)\n",
    "label = label.to(device)\n",
    "print((logit.data.max(1)[1]!=target).sum())\n",
    "print((label!=target).sum())\n",
    "print([i for i in range(200) if label[i]!=target[i]])"
   ]
  },
  {
   "cell_type": "code",
   "execution_count": 10,
   "metadata": {},
   "outputs": [
    {
     "name": "stdout",
     "output_type": "stream",
     "text": [
      "tensor(5, device='cuda:0')\n",
      "tensor([-7.0811, -7.0766, -8.2404, -4.7262, -3.2518, 10.0910, -0.1785, -5.1353,\n",
      "         0.1643, -4.1483], device='cuda:0', grad_fn=<SelectBackward0>)\n",
      "tensor([-6.5561, -6.5970, -7.2191, -4.8665, -3.1759,  8.9692,  1.6813, -5.4885,\n",
      "        -0.3468, -5.0865], device='cuda:0', grad_fn=<SelectBackward0>)\n"
     ]
    }
   ],
   "source": [
    "idx = 8\n",
    "print(target[idx])\n",
    "print(logit[idx])\n",
    "print(logit_nat_new[idx])"
   ]
  },
  {
   "cell_type": "code",
   "execution_count": 9,
   "metadata": {},
   "outputs": [
    {
     "name": "stdout",
     "output_type": "stream",
     "text": [
      "tensor([ -7.0913,  -7.9393,  -7.3403, -11.3015,  17.4487,  -8.1942,  -5.2909,\n",
      "         -7.0107,  -3.2729,  -0.6414], device='cuda:0',\n",
      "       grad_fn=<SelectBackward0>)\n",
      "tensor([-5.6983, -7.2891, -5.4399, -9.7873, 14.0137, -7.1838, -5.6737, -7.1145,\n",
      "        -0.8592, -0.1237], device='cuda:0', grad_fn=<SelectBackward0>)\n"
     ]
    }
   ],
   "source": [
    "print(logit_adv[idx])\n",
    "print(logit_adv_new[idx])"
   ]
  },
  {
   "cell_type": "code",
   "execution_count": 9,
   "metadata": {},
   "outputs": [
    {
     "name": "stdout",
     "output_type": "stream",
     "text": [
      "[-0.22, -2.08, -1.65, -0.24, -2.17, -0.61, -0.47, -1.48, 1.65, -1.56, -3.95, 3.16, -0.53, 0.13, -2.63, -0.48, -1.72, -0.77, 1.54, -3.66, -1.95, -0.53, -0.61, -2.28, -3.02, 0.75, -1.24, 2.25, 0.58, -3.84, 1.88, -1.41, 0.38, -1.87, -0.96, -2.63, -0.41, -3.11, -3.45, -1.41, -2.02, -1.98, -1.06, -2.19, 1.95, 1.02, -1.64, 2.23, 0.17, -2.61, -1.41, -0.34, -2.34, 2.29, 2.65, -0.58, -2.61, -1.18, -0.7, -1.8, -0.18, -0.77, -2.27, 1.72, -0.94, -1.1, -0.29, -2.66, 2.02, 1.3, -0.54, -2.63, -0.44, 0.8, -2.44, -0.82, -0.44, 1.8, -0.91, 0.76, -0.23, -1.9, -1.63, 1.73, -1.04, 2.29, -0.67, 0.04, -1.46, -1.49, 1.08, -1.08, -1.06, 0.6, -1.98, 1.92, -1.66, -0.94, -1.23, -0.37, 2.91, 0.22, -0.95, -3.63, 0.01, -0.91, -1.96, 1.26, -0.25, 1.6, -1.0, -0.81, -1.31, -0.9, -0.57, -1.82, -4.15, -3.41, -0.48, 1.85, -0.14, 1.6, -0.6, -0.84, -0.85, -1.36, -1.1, 1.81, 0.53, -1.76, -0.43, -0.24, 0.8, -1.11, -1.97, -2.7, -1.31, -1.28, 0.43, -1.51, -1.34, -1.14, 0.11, -2.19, -0.69, -1.71, -1.57, 2.81, -0.87, -1.52, -0.35, 1.71, 1.24, -1.34, -1.36, 2.82, 0.32, -0.88, -0.4, -3.24, -5.16, 2.18, -2.61, -0.93, -1.46, -1.94, -3.11, -0.99, -1.69, -3.96, -1.97, 0.74, -0.7, 1.48, 1.89, -0.66, -2.83, -1.31, -1.12, -1.37, -1.64, -3.71, 0.46, -2.64, -1.3, 0.22, -1.39, -1.45, 1.47, -1.9, -1.41, -1.33, 1.24, 1.54, 0.03, -2.91, -2.08, -0.35, -1.37, 0.25]\n"
     ]
    }
   ],
   "source": [
    "# logit_diff = F.softmax(logit_nat_new) - F.softmax(logit)\n",
    "# logit_diff = logit_nat_new - logit\n",
    "logit_diff = logit_adv_new - logit_adv\n",
    "temp1=[]\n",
    "temp2=[]\n",
    "label = logit_adv.data.max(1)[1]\n",
    "for i in range(200):\n",
    "    # temp.append(round(logit_diff[i][logit.data.max(1)[1][i].item()].item() / logit[i][logit.data.max(1)[1][i].item()].item() * 100, 2))\n",
    "    temp1.append(round(logit_diff[i][label[i].item()].item(), 2))\n",
    "# print([i for i in range(200) if temp[i] < -0.1])\n",
    "temp = torch.abs(torch.Tensor(temp1)).to(device)\n",
    "# print(logit_diff.max(1)[0]/temp)\n",
    "# print(logit_diff.max(1)[0])\n",
    "print(temp1)"
   ]
  },
  {
   "cell_type": "code",
   "execution_count": 4,
   "metadata": {},
   "outputs": [],
   "source": [
    "def testtime_update_mnist_new_temp(vae_model, c_model, x_adv, target, learning_rate=0.1, num = 30, mode = 'mean', channel=120, opti = 'adam'):\n",
    "    x_adv = x_adv.detach()\n",
    "    x_hat_adv, _, _, x_ = vae_model(x_adv)\n",
    "    x_copy = x_.detach().clone()\n",
    "    if opti == 'adam':\n",
    "        opt = optim.Adam([x_copy], lr=learning_rate)\n",
    "    elif opti == 'sgd':\n",
    "        opt = optim.SGD([x_copy], lr=learning_rate, momentum=0.9)\n",
    "    for _ in range(num):\n",
    "        if (x_hat_adv != x_hat_adv).sum() > 0:\n",
    "            print('nan Error')\n",
    "            exit()\n",
    "        if mode == 'mean':\n",
    "            loss = nn.functional.binary_cross_entropy(x_hat_adv, x_adv, size_average=False, reduction='mean')\n",
    "        else:\n",
    "            loss = nn.functional.binary_cross_entropy(x_hat_adv, x_adv, reduction='sum')\n",
    "        x_.retain_grad()\n",
    "        loss.backward(retain_graph=True)\n",
    "        grad = torch.autograd.grad(loss, x_)\n",
    "        with torch.no_grad():\n",
    "            # x_.data -= learning_rate * x_.grad.data\n",
    "            x_copy.grad = grad[0]\n",
    "        x_.grad.data.zero_()\n",
    "        opt.step()\n",
    "        x_ = x_copy.detach().clone()\n",
    "        x_.requires_grad = True\n",
    "        x_hat_adv = vae_model.re_forward(x_)\n",
    "    logit_adv = c_model(x_.view(-1,channel,7,7))\n",
    "    return x_hat_adv"
   ]
  },
  {
   "cell_type": "code",
   "execution_count": 5,
   "metadata": {},
   "outputs": [],
   "source": [
    "import matplotlib.pyplot as plt\n",
    "def show_image(x, idx):\n",
    "    x = x.view(test_batch_size,1, 28, 28)\n",
    "    # x = x.detach().cpu().numpy()\n",
    "    # x = x.transpose(0,2,3,1).astype(\"uint8\")\n",
    "    fig = plt.figure()\n",
    "    plt.imshow(transforms.ToPILImage()(x[idx]))"
   ]
  },
  {
   "cell_type": "code",
   "execution_count": 7,
   "metadata": {},
   "outputs": [],
   "source": [
    "for data, target in test_loader:\n",
    "    x = data.to(device)\n",
    "    target = target.to(device)\n",
    "    x_hat,_,_,_ = vae_model(x)\n",
    "    x_hat_new = testtime_update_mnist_new_temp(vae_model, c_model, x, target,learning_rate=0.01, num=100, mode = 'mean', channel=120,opti='adam')\n",
    "    x_adv = pgd_mnist_new(vae_model, c_model, x, target, 40, 0.3, 0.01,120)\n",
    "    x_adv_hat,_,_,_ = vae_model(x_adv)\n",
    "    x_adv_hat_new = testtime_update_mnist_new_temp(vae_model, c_model, x_adv, target,learning_rate=0.01, num=100, mode = 'mean', channel=120,opti='adam')\n",
    "    break"
   ]
  },
  {
   "cell_type": "code",
   "execution_count": 13,
   "metadata": {},
   "outputs": [
    {
     "data": {
      "image/png": "[encoded data removed]",
      "text/plain": [
       "<Figure size 432x288 with 1 Axes>"
      ]
     },
     "metadata": {
      "needs_background": "light"
     },
     "output_type": "display_data"
    },
    {
     "data": {
      "image/png": "[encoded data removed]",
      "text/plain": [
       "<Figure size 432x288 with 1 Axes>"
      ]
     },
     "metadata": {
      "needs_background": "light"
     },
     "output_type": "display_data"
    },
    {
     "data": {
      "image/png": "[encoded data removed]",
      "text/plain": [
       "<Figure size 432x288 with 1 Axes>"
      ]
     },
     "metadata": {
      "needs_background": "light"
     },
     "output_type": "display_data"
    }
   ],
   "source": [
    "idx=20\n",
    "show_image(x,idx)\n",
    "show_image(x_hat,idx)\n",
    "show_image(x_hat_new,idx)"
   ]
  },
  {
   "cell_type": "code",
   "execution_count": 14,
   "metadata": {},
   "outputs": [],
   "source": [
    "x_adv_,_,_,_ = vae_model(x_adv)\n",
    "for _ in range(1):\n",
    "    x_adv_,_,_,_ = vae_model(x_adv_)"
   ]
  },
  {
   "cell_type": "code",
   "execution_count": 15,
   "metadata": {},
   "outputs": [
    {
     "data": {
      "image/png": "[encoded data removed]",
      "text/plain": [
       "<Figure size 432x288 with 1 Axes>"
      ]
     },
     "metadata": {
      "needs_background": "light"
     },
     "output_type": "display_data"
    },
    {
     "data": {
      "image/png": "[encoded data removed]",
      "text/plain": [
       "<Figure size 432x288 with 1 Axes>"
      ]
     },
     "metadata": {
      "needs_background": "light"
     },
     "output_type": "display_data"
    }
   ],
   "source": [
    "show_image(x,idx)\n",
    "show_image(x_adv_,idx)"
   ]
  },
  {
   "cell_type": "code",
   "execution_count": 16,
   "metadata": {},
   "outputs": [
    {
     "data": {
      "image/png": "[encoded data removed]",
      "text/plain": [
       "<Figure size 432x288 with 1 Axes>"
      ]
     },
     "metadata": {
      "needs_background": "light"
     },
     "output_type": "display_data"
    },
    {
     "data": {
      "image/png": "[encoded data removed]",
      "text/plain": [
       "<Figure size 432x288 with 1 Axes>"
      ]
     },
     "metadata": {
      "needs_background": "light"
     },
     "output_type": "display_data"
    },
    {
     "data": {
      "image/png": "[encoded data removed]",
      "text/plain": [
       "<Figure size 432x288 with 1 Axes>"
      ]
     },
     "metadata": {
      "needs_background": "light"
     },
     "output_type": "display_data"
    }
   ],
   "source": [
    "show_image(x_adv,idx)\n",
    "show_image(x_adv_hat,idx)\n",
    "show_image(x_adv_hat_new,idx)"
   ]
  },
  {
   "cell_type": "code",
   "execution_count": null,
   "metadata": {},
   "outputs": [],
   "source": []
  }
 ],
 "metadata": {
  "interpreter": {
   "hash": "00ca607cfbf8999ac685dca5ed489f11e8f7657d7eb18b4846f72ffe0c959b03"
  },
  "kernelspec": {
   "display_name": "Python 3.7.11 ('test': conda)",
   "language": "python",
   "name": "python3"
  },
  "language_info": {
   "codemirror_mode": {
    "name": "ipython",
    "version": 3
   },
   "file_extension": ".py",
   "mimetype": "text/x-python",
   "name": "python",
   "nbconvert_exporter": "python",
   "pygments_lexer": "ipython3",
   "version": "3.7.12"
  },
  "orig_nbformat": 4
 },
 "nbformat": 4,
 "nbformat_minor": 2
}
