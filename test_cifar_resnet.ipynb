{
 "cells": [
  {
   "cell_type": "code",
   "execution_count": 1,
   "metadata": {},
   "outputs": [
    {
     "name": "stdout",
     "output_type": "stream",
     "text": [
      "Files already downloaded and verified\n",
      "Files already downloaded and verified\n"
     ]
    }
   ],
   "source": [
    "import torch\n",
    "import torchvision\n",
    "import torch.nn as nn\n",
    "from torch.autograd import Variable\n",
    "from torchvision import datasets, transforms\n",
    "from model.resnet import *\n",
    "from blackbox_pgd_model.wideresnet_update import *\n",
    "from pgd_attack import *\n",
    "import torch.optim as optim\n",
    "import numpy as np\n",
    "from util import *\n",
    "import os\n",
    "torch.set_printoptions(precision=4, sci_mode=False)\n",
    "os.environ['CUDA_LAUNCH_BLOCKING'] = \"1\"\n",
    "os.environ['CUDA_VISIBLE_DEVICES'] = \"0\"\n",
    "torch.manual_seed(1)\n",
    "torch.cuda.manual_seed(1)\n",
    "torch.backends.cudnn.benchmark = False\n",
    "torch.backends.cudnn.deterministic = True\n",
    "use_cuda = torch.cuda.is_available()\n",
    "device = torch.device(\"cuda\" if use_cuda else \"cpu\")\n",
    "kwargs = {'num_workers': 1, 'pin_memory': True} if use_cuda else {}\n",
    "transform_train = transforms.Compose([\n",
    "    transforms.RandomCrop(32, padding=4),\n",
    "    transforms.RandomHorizontalFlip(),\n",
    "    transforms.ToTensor(),\n",
    "])\n",
    "transform_test = transforms.Compose([\n",
    "    transforms.ToTensor(),\n",
    "])\n",
    "batch_size = 200\n",
    "test_batch_size = 200\n",
    "beta = 0.5\n",
    "trainset = torchvision.datasets.CIFAR10(root='../data', train=True, download=True, transform=transform_train)\n",
    "train_loader = torch.utils.data.DataLoader(trainset, batch_size=batch_size, shuffle=True, **kwargs)\n",
    "testset = torchvision.datasets.CIFAR10(root='../data', train=False, download=True, transform=transform_test)\n",
    "test_loader = torch.utils.data.DataLoader(testset, batch_size=test_batch_size, shuffle=False, **kwargs)\n"
   ]
  },
  {
   "cell_type": "code",
   "execution_count": 2,
   "metadata": {},
   "outputs": [],
   "source": [
    "def test(vae_model, c_model, channel=128, lr=0.01, num=50):\n",
    "    err_num = 0\n",
    "    err_adv = 0\n",
    "    err_nat = 0\n",
    "    c_model.eval()\n",
    "    vae_model.eval()\n",
    "    f = True\n",
    "    for data, target in test_loader:\n",
    "        data, target = data.to(device), target.to(device)\n",
    "        data = Variable(data.data, requires_grad=True)\n",
    "        _,_,_,x_ = vae_model(data)\n",
    "        logit = c_model(x_)\n",
    "        err_nat += (logit.data.max(1)[1] != target.data).float().sum()\n",
    "        logit_new, data_new = testtime_update_cifar_opt(vae_model, c_model, data, target,learning_rate=lr, num=num, channel=channel, opti='adam')\n",
    "        # logit_new = testtime_update_cifar(vae_model, c_model, data, target,learning_rate=0.1, num=100, channel=channel)\n",
    "        # label = logit_calculate(logit, logit_new).to(device)\n",
    "        # err_num += (label.data != target.data).float().sum()\n",
    "        x_adv = pgd_cifar_resnet(vae_model, c_model, data, target, 20, 0.03, 0.003)\n",
    "        # x_adv = pgd_cifar_blackbox(vae_model, c_model, source_model, data, target, 20, 0.03, 0.003)\n",
    "        _,_,_,x_ = vae_model(x_adv)\n",
    "        logit_adv = c_model(x_)\n",
    "        logit_adv_new, data_adv_new = testtime_update_cifar_opt(vae_model, c_model, x_adv, target,learning_rate=lr, num=num, channel=channel, opti='adam')\n",
    "        # logit_adv_new = testtime_update_cifar(vae_model, c_model, x_adv, target,learning_rate=0.1, num=100, channel=channel)\n",
    "        if f:\n",
    "            return logit, logit_adv, logit_new, logit_adv_new, target, data, data_new, x_adv, data_adv_new\n",
    "        # label_adv = logit_calculate(logit_adv, logit_adv_new).to(device)\n",
    "        # logit_adv = diff_update_cifar(vae_model,c_model, x_adv, target,learning_rate=0.05, num=100)\n",
    "        # _,_,_,x_ = vae_model(x_adv)\n",
    "        # logit_adv = c_model(x_.view(-1,160,8,8))\n",
    "        # err_adv += (label_adv.data != target.data).float().sum()\n",
    "        # err_adv += (logit_adv.data.max(1)[1] != target.data).float().sum()\n",
    "    print(len(test_loader.dataset))\n",
    "    print(err_nat)\n",
    "    print(err_num)\n",
    "    print(err_adv)\n",
    "\n",
    "def testtime_update_cifar_opt(vae_model, c_model, x_adv, target, learning_rate=0.1, num = 30, mode = 'mean', channel=128, opti = 'adam'):\n",
    "    x_adv = x_adv.detach()\n",
    "    x_hat_adv, _, _, x_ = vae_model(x_adv)\n",
    "    x_copy = x_.detach().clone()\n",
    "    if opti == 'adam':\n",
    "        opt = optim.Adam([x_copy], lr=learning_rate)\n",
    "    elif opti == 'sgd':\n",
    "        opt = optim.SGD([x_copy], lr=learning_rate, momentum=0.9)\n",
    "    for _ in range(num):\n",
    "        # opt.zero_grad()\n",
    "        if mode == 'mean':\n",
    "            loss = nn.functional.binary_cross_entropy(x_hat_adv, x_adv, size_average=False, reduction='mean')\n",
    "        else:\n",
    "            loss = nn.functional.binary_cross_entropy(x_hat_adv, x_adv, reduction='sum')\n",
    "        x_.retain_grad()\n",
    "        loss.backward(retain_graph=True)\n",
    "        grad = torch.autograd.grad(loss, x_)\n",
    "        # exit()\n",
    "        with torch.no_grad():\n",
    "            x_copy.grad = grad[0]\n",
    "        # with torch.no_grad():\n",
    "        #     x_.data -= learning_rate * x_.grad.data\n",
    "        x_.grad.data.zero_()\n",
    "        opt.step()\n",
    "        x_ = x_copy.detach().clone()\n",
    "        x_.requires_grad = True\n",
    "        x_hat_adv = vae_model.decoder(x_)\n",
    "    logit_adv = c_model(x_)\n",
    "    return logit_adv, x_hat_adv"
   ]
  },
  {
   "cell_type": "code",
   "execution_count": 3,
   "metadata": {},
   "outputs": [],
   "source": [
    "import matplotlib.pyplot as plt\n",
    "def show_image(x, idx):\n",
    "    x = x.view(test_batch_size,3, 32, 32)\n",
    "    # x = x.detach().cpu().numpy()\n",
    "    # x = x.transpose(0,2,3,1).astype(\"uint8\")\n",
    "    fig = plt.figure()\n",
    "    plt.imshow(transforms.ToPILImage()(x[idx]))"
   ]
  },
  {
   "cell_type": "code",
   "execution_count": 4,
   "metadata": {},
   "outputs": [
    {
     "data": {
      "text/plain": [
       "<All keys matched successfully>"
      ]
     },
     "execution_count": 4,
     "metadata": {},
     "output_type": "execute_result"
    }
   ],
   "source": [
    "d = 1024\n",
    "vae_model = res_VAE(zDim=d).to(device)\n",
    "c_model = classifier(input_dim=d).to(device)\n",
    "vae_model_path = './model-checkpoint/cifar-vae-model-200.pt'\n",
    "c_model_path = './model-checkpoint/cifar-c-model-200.pt'\n",
    "vae_model.load_state_dict(torch.load(vae_model_path))\n",
    "c_model.load_state_dict(torch.load(c_model_path))"
   ]
  },
  {
   "cell_type": "code",
   "execution_count": 5,
   "metadata": {},
   "outputs": [
    {
     "name": "stderr",
     "output_type": "stream",
     "text": [
      "/home/hao/anaconda3/envs/test/lib/python3.7/site-packages/torch/nn/functional.py:1806: UserWarning: nn.functional.sigmoid is deprecated. Use torch.sigmoid instead.\n",
      "  warnings.warn(\"nn.functional.sigmoid is deprecated. Use torch.sigmoid instead.\")\n",
      "/home/hao/anaconda3/envs/test/lib/python3.7/site-packages/torch/nn/_reduction.py:42: UserWarning: size_average and reduce args will be deprecated, please use reduction='sum' instead.\n",
      "  warnings.warn(warning.format(ret))\n"
     ]
    }
   ],
   "source": [
    "logit, logit_adv,logit_nat_new, logit_adv_new, target,x,x_new,x_adv,x_adv_new = test(vae_model, c_model, channel=160, lr=0.001, num=100)"
   ]
  },
  {
   "cell_type": "code",
   "execution_count": 6,
   "metadata": {},
   "outputs": [
    {
     "name": "stdout",
     "output_type": "stream",
     "text": [
      "tensor(179, device='cuda:0')\n",
      "tensor(200, device='cuda:0')\n"
     ]
    }
   ],
   "source": [
    "label = logit_calculate(logit_adv, logit_adv_new)\n",
    "# label = logit_calculate(logit, logit_nat_new)\n",
    "label = label.to(device)\n",
    "print((logit.data.max(1)[1]!=target).sum())\n",
    "print((label!=target).sum())"
   ]
  },
  {
   "cell_type": "code",
   "execution_count": 7,
   "metadata": {},
   "outputs": [
    {
     "name": "stdout",
     "output_type": "stream",
     "text": [
      "tensor(3, device='cuda:0')\n",
      "tensor([-0.2198, -0.1047,  1.5160,  0.1164, -0.8715, -0.1801,  0.7206,  0.1436,\n",
      "        -0.4384, -0.5168], device='cuda:0', grad_fn=<SelectBackward0>)\n",
      "tensor([-0.2139, -0.0977,  1.5052,  0.1236, -0.8645, -0.1735,  0.7095,  0.1623,\n",
      "        -0.4514, -0.5068], device='cuda:0', grad_fn=<SelectBackward0>)\n"
     ]
    }
   ],
   "source": [
    "idx = 8\n",
    "print(target[idx])\n",
    "print(logit[idx])\n",
    "print(logit_nat_new[idx])"
   ]
  },
  {
   "cell_type": "code",
   "execution_count": 8,
   "metadata": {},
   "outputs": [
    {
     "name": "stdout",
     "output_type": "stream",
     "text": [
      "tensor([-0.1428, -0.1051,  3.4686, -1.0259, -1.2308,  0.1472,  1.1364,  0.4906,\n",
      "        -0.4309, -0.2822], device='cuda:0', grad_fn=<SelectBackward0>)\n",
      "tensor([-0.1408, -0.1203,  3.4713, -1.0137, -1.2254,  0.1443,  1.1436,  0.4967,\n",
      "        -0.4608, -0.2794], device='cuda:0', grad_fn=<SelectBackward0>)\n"
     ]
    }
   ],
   "source": [
    "print(logit_adv[idx])\n",
    "print(logit_adv_new[idx])"
   ]
  },
  {
   "cell_type": "code",
   "execution_count": 9,
   "metadata": {},
   "outputs": [],
   "source": [
    "x_hat,_,_,x_ = vae_model(x)"
   ]
  },
  {
   "cell_type": "code",
   "execution_count": 10,
   "metadata": {},
   "outputs": [
    {
     "data": {
      "image/png": "[encoded data removed]",
      "text/plain": [
       "<Figure size 432x288 with 1 Axes>"
      ]
     },
     "metadata": {
      "needs_background": "light"
     },
     "output_type": "display_data"
    }
   ],
   "source": [
    "show_image(x, idx=idx)"
   ]
  },
  {
   "cell_type": "code",
   "execution_count": 11,
   "metadata": {},
   "outputs": [
    {
     "data": {
      "image/png": "[encoded data removed]",
      "text/plain": [
       "<Figure size 432x288 with 1 Axes>"
      ]
     },
     "metadata": {
      "needs_background": "light"
     },
     "output_type": "display_data"
    }
   ],
   "source": [
    "show_image(x_hat, idx=idx)"
   ]
  },
  {
   "cell_type": "code",
   "execution_count": 12,
   "metadata": {},
   "outputs": [
    {
     "data": {
      "image/png": "[encoded data removed]",
      "text/plain": [
       "<Figure size 432x288 with 1 Axes>"
      ]
     },
     "metadata": {
      "needs_background": "light"
     },
     "output_type": "display_data"
    }
   ],
   "source": [
    "show_image(x_new, idx=idx)"
   ]
  },
  {
   "cell_type": "code",
   "execution_count": 12,
   "metadata": {},
   "outputs": [
    {
     "data": {
      "image/png": "[encoded data removed]",
      "text/plain": [
       "<Figure size 432x288 with 1 Axes>"
      ]
     },
     "metadata": {
      "needs_background": "light"
     },
     "output_type": "display_data"
    }
   ],
   "source": [
    "show_image(x_adv, idx=idx)"
   ]
  },
  {
   "cell_type": "code",
   "execution_count": 13,
   "metadata": {},
   "outputs": [
    {
     "data": {
      "image/png": "[encoded data removed]",
      "text/plain": [
       "<Figure size 432x288 with 1 Axes>"
      ]
     },
     "metadata": {
      "needs_background": "light"
     },
     "output_type": "display_data"
    }
   ],
   "source": [
    "show_image(x_adv_new, idx=idx)"
   ]
  },
  {
   "cell_type": "code",
   "execution_count": null,
   "metadata": {},
   "outputs": [],
   "source": []
  }
 ],
 "metadata": {
  "kernelspec": {
   "display_name": "Python 3.7.12 ('test': conda)",
   "language": "python",
   "name": "python3"
  },
  "language_info": {
   "codemirror_mode": {
    "name": "ipython",
    "version": 3
   },
   "file_extension": ".py",
   "mimetype": "text/x-python",
   "name": "python",
   "nbconvert_exporter": "python",
   "pygments_lexer": "ipython3",
   "version": "3.7.12"
  },
  "orig_nbformat": 4,
  "vscode": {
   "interpreter": {
    "hash": "00ca607cfbf8999ac685dca5ed489f11e8f7657d7eb18b4846f72ffe0c959b03"
   }
  }
 },
 "nbformat": 4,
 "nbformat_minor": 2
}
